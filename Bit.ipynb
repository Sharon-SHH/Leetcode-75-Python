{
 "cells": [
  {
   "cell_type": "markdown",
   "id": "7c52dda9-95cb-4404-a1b1-29e76d886038",
   "metadata": {},
   "source": [
    "#### Bitwise operators\n",
    "\n",
    "The bitwise **AND** operator (`&`) performs [logical conjunction](https://en.wikipedia.org/wiki/Logical_conjunction) on the corresponding bits of its operands. The resulting bit pattern is an **intersection** of the operator's arguments.\n",
    "$$\n",
    "(a \\& b)_i = a_i \\times b_i\n",
    "$$\n",
    "\n",
    "\n",
    "The bitwise **OR** operator (`|`) performs [logical disjunction](https://en.wikipedia.org/wiki/Logical_disjunction). For each corresponding pair of bits, it returns a one if at least one of them is switched on.\n",
    "$$\n",
    "(a | b)_i = a_i + b_i - (a_i \\times b_i)\n",
    "$$\n",
    "The bitwise **XOR** operator (`^`) doesn’t have a logical counterpart in Python. \n",
    "\n",
    "```python\n",
    "def xor(a, b):\n",
    "    return (a and not b) or (not a and b)\n",
    "```\n",
    "\n",
    "$$\n",
    "(a\\ xor\\ b)_i = (a_i + b_i)\\ mod\\ 2\n",
    "$$\n",
    "\n",
    "The bitwise **NOT** operator (`~`), which expects just one argument, making it the only unary bitwise operator.\n",
    "$$\n",
    "Not\\ a_i = 1 - a_i\n",
    "$$\n",
    "\n",
    "### Bitwise Shift Operators\n",
    "\n",
    "The operators let you move the bits around.\n",
    "\n",
    "**Left shift:** `<<` moves the bits of its first operand to the left by the number of places specified in its second operand. It also takes care of inserting enough zero bits to fill the gap\n",
    "$$\n",
    "a << n = a \\times 2^n\n",
    "$$\n",
    "\n",
    "```python\n",
    ">>> 10 << 1  # 1010 -> 10100=4+16=20\n",
    "20\n",
    "```\n",
    "\n",
    "The bitwise **right shift** operator (`>>`) is analogous to the left one.\n",
    "$$\n",
    "a >> n = a // 2^n\n",
    "$$\n",
    "It is the floor of a small negative fraction, always minus one.\n",
    "\n",
    "```python\n",
    ">>> 10 >> 2 #(10/4=2.5)\n",
    "2\n",
    ">>> -10 >> 2 #(-2.5)\n",
    "-3\n",
    "```\n",
    "\n",
    "**Right Shift (>>)**: Right shift operator is a binary operator which shifts some number of bits to the right and appends 000 at the left side. One right shift is equivalent to dividing the bit pattern with 222.\n",
    "\n",
    "A = 4 = 100 (in binary)   \n",
    "A >> 1 = 100 >> 1 = 010 = 2 (in decimal)  \n",
    "A >> 2 = 100 >> 2 = 001 = 1 (in decimal)  \n",
    "A >> 3 = 100 >> 3 = 000 = 0 (in decimal)  \n",
    "\n",
    "B = 5 = 00101 (in binary)  \n",
    "B >> 1 = 00101 >> 1 = 00010 = 2 (in decimal)  \n",
    "\n",
    "**Left Shift (<<)**: Left shift operator is a binary operator which shifts some number of bits to the left and appends 000 at the end. One left shift is equivalent to multiplying the bit pattern with 222.\n",
    "\n",
    "A = 1 = 001 (in binary)   \n",
    "A << 1 = 001 << 1 = 010 = 2 (in decimal)  \n",
    "A << 2 = 001 << 2 = 100 = 4 (in decimal)   \n",
    "### Finding position of first least significant non-zero bit in Binary number\n",
    "Suppose x = 11110010\n",
    "\n",
    "here the position of first non-zero least significant is 2 as shown in Bold.\n",
    "\n",
    "x & ~(x-1)"
   ]
  },
  {
   "cell_type": "code",
   "execution_count": 1,
   "id": "989e2f25-6559-493c-992f-a39e71ea5dde",
   "metadata": {},
   "outputs": [
    {
     "data": {
      "text/plain": [
       "8"
      ]
     },
     "execution_count": 1,
     "metadata": {},
     "output_type": "execute_result"
    }
   ],
   "source": [
    "x = 1111000\n",
    "x & ~(x-1)  # ~(x-1)"
   ]
  },
  {
   "cell_type": "markdown",
   "id": "e41ed89b-a586-4a53-87e1-31bab2f7b0b7",
   "metadata": {},
   "source": [
    "### 338. Counting Bits (E)\n",
    "Given an integer n, return an array ans of length n + 1 such that for each i (0 <= i <= n), ans[i] is the number of 1's in the binary representation of i.  \n",
    "\n",
    "Example 1:\n",
    "Input: n = 5  \n",
    "Output: [0,1,1,2,1,2]  \n",
    "Explanation:  \n",
    "0 --> 0  \n",
    "1 --> 1  \n",
    "2 --> 10  \n",
    "3 --> 11  \n",
    "4 --> 100  \n",
    "5 --> 101  \n",
    "\n",
    "##### Constraints:\n",
    "\n",
    "0 <= n <= 105\n",
    " \n",
    "Follow up:\n",
    "\n",
    "It is very easy to come up with a solution with a runtime of O(n log n). Can you do it in linear time O(n) and possibly in a single pass?  \n",
    "Can you do it without using any built-in function (i.e., like __builtin_popcount in C++)?"
   ]
  },
  {
   "cell_type": "code",
   "execution_count": 2,
   "id": "287779a6-4cd6-4b6e-9e58-a96505fc8383",
   "metadata": {},
   "outputs": [
    {
     "data": {
      "text/plain": [
       "[0, 1, 1, 2, 1, 2]"
      ]
     },
     "execution_count": 2,
     "metadata": {},
     "output_type": "execute_result"
    }
   ],
   "source": [
    "from typing import List\n",
    "class Solution:\n",
    "    def countBits(self, n: int) -> List[int]:\n",
    "        res = []\n",
    "        def popcount(x):\n",
    "            count = 0\n",
    "            while x != 0:\n",
    "                if x&1:\n",
    "                    count += 1\n",
    "                x >>= 1\n",
    "            return count\n",
    "        for i in range(n+1):\n",
    "            res.append(popcount(i))\n",
    "        return res\n",
    "\n",
    "    def countBits_dp(self, n: int) -> List[int]:\n",
    "        P = [0] * (n+1)\n",
    "        x = 0\n",
    "        b = 1\n",
    "        while b <= n:\n",
    "            while x < b and x+b <= n:\n",
    "                P[x+b] = P[x] + 1\n",
    "                x += 1\n",
    "            print(P)\n",
    "            x = 0\n",
    "            b <<= 1 # b -> b*2\n",
    "        return P\n",
    "        \n",
    "s = Solution()\n",
    "s.countBits(5)"
   ]
  },
  {
   "cell_type": "code",
   "execution_count": 3,
   "id": "233289cc-b9a7-42ff-a7e2-fc2760479b9a",
   "metadata": {},
   "outputs": [
    {
     "name": "stdout",
     "output_type": "stream",
     "text": [
      "[0, 1, 0, 0, 0, 0, 0, 0, 0, 0, 0, 0, 0, 0, 0, 0, 0]\n",
      "[0, 1, 1, 2, 0, 0, 0, 0, 0, 0, 0, 0, 0, 0, 0, 0, 0]\n",
      "[0, 1, 1, 2, 1, 2, 2, 3, 0, 0, 0, 0, 0, 0, 0, 0, 0]\n",
      "[0, 1, 1, 2, 1, 2, 2, 3, 1, 2, 2, 3, 2, 3, 3, 4, 0]\n",
      "[0, 1, 1, 2, 1, 2, 2, 3, 1, 2, 2, 3, 2, 3, 3, 4, 1]\n"
     ]
    },
    {
     "data": {
      "text/plain": [
       "[0, 1, 1, 2, 1, 2, 2, 3, 1, 2, 2, 3, 2, 3, 3, 4, 1]"
      ]
     },
     "execution_count": 3,
     "metadata": {},
     "output_type": "execute_result"
    }
   ],
   "source": [
    "s.countBits_dp(16)"
   ]
  },
  {
   "cell_type": "markdown",
   "id": "1ea201fa-e1a2-4a3f-9e6f-ac90b07816cf",
   "metadata": {},
   "source": [
    "#### countBits:\n",
    "Time complexity: O(n*logn)\n",
    "#### countBits_dp:  \n",
    "Time complexity: O(n)  \n",
    "Space complexity: O(1); The space of P is the output. The output array does not count towards the space complexity.  "
   ]
  },
  {
   "cell_type": "markdown",
   "id": "4db4bd8a-e0f4-4aff-88fb-ade3e800ce77",
   "metadata": {},
   "source": [
    "**0  1 ($2^0$)**  \n",
    "00 01  \n",
    "**2  3 ($2^1$)**    \n",
    "10 11  \n",
    "**4 5 6 7** ($2^2$)   \n",
    "100 101 110 111  \n",
    "**8   9   10   11 ,  12   13   14   15 ($2^3$)**  \n",
    "1000 1001 1010 1011, 1100 1101 1110 1111  \n",
    "\n",
    "P(x+b) = P(x) + 1, where b=$2^m$"
   ]
  },
  {
   "cell_type": "markdown",
   "id": "d221e6ff-6fb3-4af6-96d5-25101ff68184",
   "metadata": {},
   "source": [
    "### 136. Single Number\n",
    "Given a non-empty array of integers nums, every element appears twice except for one. Find that single one.\n",
    "\n",
    "You must implement a solution with a linear runtime complexity and use only constant extra space.\n",
    "\n",
    "Example 1:  \n",
    "Input: nums = [2,2,1]  \n",
    "Output: 1  \n",
    "Example 2:  \n",
    "Input: nums = [4,1,2,1,2]  \n",
    "Output: 4  \n",
    "\n",
    "Constraints:\n",
    "\n",
    "1 <= nums.length <= 3 * $10^4$  \n",
    "-3 * $10^4$   <= nums[i] <= 3 * $10^4$  \n",
    "Each element in the array appears twice except for one element which appears only once.  "
   ]
  },
  {
   "cell_type": "code",
   "execution_count": 4,
   "id": "babb8292-d2f9-4e8d-914b-26232ae6c491",
   "metadata": {},
   "outputs": [],
   "source": [
    "class Solution:\n",
    "    def singleNumber(self, nums: List[int]) -> int:\n",
    "        visited = set()\n",
    "        for num in nums:\n",
    "            if num in visited:\n",
    "                visited.remove(num)\n",
    "            else:\n",
    "                visited.add(num)\n",
    "        return visited.pop()\n",
    "    def singleNumber_Math(self, nums: List[int]) -> int:\n",
    "        all_nums = set(nums)\n",
    "        return 2*sum(all_nums) - sum(nums)\n",
    "    def singleNumber_Bit(self, nums: List[int]) -> int:\n",
    "        val = 0\n",
    "        for num in nums:\n",
    "            val ^= num\n",
    "        return val"
   ]
  },
  {
   "cell_type": "markdown",
   "id": "7aa57d5f-12a3-45b7-96d5-1249d7f4e64e",
   "metadata": {},
   "source": [
    "### singleNumber:\n",
    "Time complexity: O(n)  \n",
    "Space complexity: O(n)  \n",
    "### singleNumber_Math: \n",
    "$$2 * (a+b+c+...) - (a+a+b+c+c+...) = b$$\n",
    "Time complexity: O(n)  \n",
    "convert list to set: O(n)  \n",
    "sum a list: O(n)  \n",
    "Total: O(n+n)=O(n)\n",
    "### singleNumber_Bit:\n",
    "$$a \\oplus b \\oplus a = (a \\oplus a) \\oplus b = 0 \\oplus b = b$$"
   ]
  },
  {
   "cell_type": "markdown",
   "id": "072fad4f-3874-4a50-8ba8-aa5f2dfdefa1",
   "metadata": {},
   "source": [
    "### 1318. Minimum Flips to Make a OR b Equal to c\n",
    "Given 3 positives numbers a, b and c. Return the minimum flips required in some bits of a and b to make ( a OR b == c ). (bitwise OR operation).\n",
    "Flip operation consists of change any single bit 1 to 0 or change the bit 0 to 1 in their binary representation.\n",
    "\n",
    "Example 1:\n",
    "Input: a = 2, b = 6, c = 5  \n",
    "Output: 3  \n",
    "Explanation: 10 or 110; c=101 (0+2+1) = 3 \n",
    "After flips a = 1 , b = 4 , c = 5 such that (a OR b == c)  \n",
    "Constraints:\n",
    "\n",
    "1 <= a <= $10^9$ \n",
    "1 <= b <= $10^9$ \n",
    "1 <= c <= $10^9$"
   ]
  },
  {
   "cell_type": "code",
   "execution_count": 5,
   "id": "e4f28206-b1ba-46f0-b708-12a269656c30",
   "metadata": {},
   "outputs": [
    {
     "data": {
      "text/plain": [
       "3"
      ]
     },
     "execution_count": 5,
     "metadata": {},
     "output_type": "execute_result"
    }
   ],
   "source": [
    "class Solution:\n",
    "    def minFlips(self, a: int, b: int, c: int) -> int:\n",
    "        # Convert c to binary and remove the '0b' prefix\n",
    "        target = bin(c)[2:] # 5: 0b101\n",
    "        ba, bb = bin(a)[2:], bin(b)[2:]  \n",
    "        n = max(len(ba), len(bb), len(target))\n",
    "        count = 0\n",
    "\n",
    "        ba = ba.zfill(n) # fill string to n length\n",
    "        bb = bb.zfill(n)\n",
    "        target = target.zfill(n)\n",
    "        for i in range(n):\n",
    "            # Check if the i-th bit of c is 0\n",
    "            if target[i] == '0':\n",
    "                count += ba[i] == '1'\n",
    "                count += bb[i] == '1'\n",
    "            # Check if the i-th bit of c is 1\n",
    "            else:\n",
    "                if ba[i] == '0' and bb[i] == '0':\n",
    "                    count += 1\n",
    "        return count\n",
    "        \n",
    "    def minFlips_Bit(self, a: int, b: int, c: int) -> int:\n",
    "        count = 0\n",
    "        while a or b or c:\n",
    "            if c & 1:\n",
    "                count += 1 if not (a & 1) and not (b & 1) else 0\n",
    "            else:\n",
    "                count += (a & 1) + (b & 1)\n",
    "            c >>= 1\n",
    "            b >>= 1\n",
    "            a >>= 1\n",
    "        return count\n",
    "    def minFlips_Bit_Count(self, a: int, b: int, c: int) -> int:\n",
    "        special = bin(a&b&((a|b)^c)).count(\"1\")  # bin(): string; count:how many 1\n",
    "        return bin((a|b)^c).count(\"1\") + special\n",
    "a,b,c = 2,6,5\n",
    "s = Solution()\n",
    "s.minFlips(a,b,c)"
   ]
  },
  {
   "cell_type": "code",
   "execution_count": 6,
   "id": "4fd8ecf1-ee1f-4334-83d4-05a0c6aa6536",
   "metadata": {},
   "outputs": [
    {
     "data": {
      "text/plain": [
       "3"
      ]
     },
     "execution_count": 6,
     "metadata": {},
     "output_type": "execute_result"
    }
   ],
   "source": [
    "(a|b)^c  # compare a or b to c, differences\n",
    "\n",
    "#a:  10\n",
    "#b: 110\n",
    "#|: 110\n",
    "#c: 101\n",
    "# use ^(xor) to compute how many digits are different\n",
    "# Special: when c is 0, a=1 and b = 1: \n",
    "# a&b = 1 and (a|b)^c"
   ]
  },
  {
   "cell_type": "markdown",
   "id": "75c0fc7d-e3bb-43fa-b567-8083390d30be",
   "metadata": {},
   "source": [
    "n is the maximum length in the binary representation of a, b, or c.  \n",
    "Time complexity: O(n)  \n",
    "Space complexity: O(n)  "
   ]
  },
  {
   "cell_type": "code",
   "execution_count": 7,
   "id": "65b2df7b-feae-4e99-8652-3b59718c43ef",
   "metadata": {},
   "outputs": [
    {
     "name": "stdout",
     "output_type": "stream",
     "text": [
      "4\n",
      "0\n"
     ]
    }
   ],
   "source": [
    "x = 5\n",
    "while x != 0:\n",
    "    x &= x - 1\n",
    "    print(x)"
   ]
  },
  {
   "cell_type": "code",
   "execution_count": 8,
   "id": "bab51c40-71ea-404a-83f8-4e78b1b020e9",
   "metadata": {},
   "outputs": [
    {
     "name": "stdout",
     "output_type": "stream",
     "text": [
      "2 1\n",
      "1 1\n",
      "0 2\n"
     ]
    }
   ],
   "source": [
    "c = 0\n",
    "x = 5\n",
    "while x != 0:\n",
    "    if x & 1:\n",
    "        c += 1\n",
    "    x >>= 1\n",
    "    print(x, c)"
   ]
  }
 ],
 "metadata": {
  "kernelspec": {
   "display_name": "Python 3 (ipykernel)",
   "language": "python",
   "name": "python3"
  },
  "language_info": {
   "codemirror_mode": {
    "name": "ipython",
    "version": 3
   },
   "file_extension": ".py",
   "mimetype": "text/x-python",
   "name": "python",
   "nbconvert_exporter": "python",
   "pygments_lexer": "ipython3",
   "version": "3.11.5"
  }
 },
 "nbformat": 4,
 "nbformat_minor": 5
}
