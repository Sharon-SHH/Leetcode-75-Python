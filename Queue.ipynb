{
 "cells": [
  {
   "cell_type": "markdown",
   "id": "4f124033-1ab1-4183-8db4-eeb385d7dc67",
   "metadata": {},
   "source": [
    "### 933. Number of Recent Calls\n",
    "You have a RecentCounter class which counts the number of recent requests within a certain time frame.\n",
    "\n",
    "Implement the RecentCounter class:\n",
    "\n",
    "RecentCounter() Initializes the counter with zero recent requests.  \n",
    "int ping(int t) Adds a new request at time t, where t represents some time in milliseconds, and returns the number of requests that has happened in the past 3000 milliseconds (including the new request). Specifically, return the number of requests that have happened in the inclusive range [t - 3000, t].  \n",
    "It is guaranteed that every call to ping uses a strictly larger value of t than the previous call.\n",
    "\n",
    "Example 1:\n",
    "\n",
    "Input:[\"RecentCounter\", \"ping\", \"ping\", \"ping\", \"ping\"]  \n",
    "[[], [1], [100], [3001], [3002]]  \n",
    "Output\n",
    "[null, 1, 2, 3, 3]  \n",
    "Constraints:\n",
    "- 1 <= t <= $10^9$\n",
    "- Each test case will call ping with strictly increasing values of t.\n",
    "- At most $10^4$ calls will be made to ping."
   ]
  },
  {
   "cell_type": "code",
   "execution_count": 1,
   "id": "fda203c2-41de-4a01-bd3a-37a2fc43d394",
   "metadata": {},
   "outputs": [
    {
     "name": "stdout",
     "output_type": "stream",
     "text": [
      "1 2 3 3\n"
     ]
    }
   ],
   "source": [
    "from collections import deque\n",
    "class RecentCounter:\n",
    "\n",
    "    def __init__(self):\n",
    "        self.requests = deque()\n",
    "\n",
    "    def ping(self, t: int) -> int:\n",
    "        # use a list to remember t \n",
    "        self.requests.append(t)\n",
    "        while (t - self.requests[0] > 3000): # compare two ends of the deque\n",
    "            self.requests.popleft()\n",
    "            \n",
    "        return len(self.requests)\n",
    "r = RecentCounter()\n",
    "print(r.ping(1), r.ping(100), r.ping(3001), r.ping(3002))"
   ]
  },
  {
   "cell_type": "markdown",
   "id": "cd75f25f-895b-41a5-aa22-98c4a368e01d",
   "metadata": {},
   "source": [
    "### 649. Dota2 Senate\n",
    "In the world of Dota2, there are two parties: the Radiant and the Dire.\n",
    "\n",
    "The Dota2 senate consists of senators coming from two parties. Now the Senate wants to decide on a change in the Dota2 game. The voting for this change is a round-based procedure. In each round, each senator can exercise one of the two rights:\n",
    "\n",
    "Ban one senator's right: A senator can make another senator lose all his rights in this and all the following rounds.\n",
    "Announce the victory: If this senator found the senators who still have rights to vote are all from the same party, he can announce the victory and decide on the change in the game.\n",
    "Given a string senate representing each senator's party belonging. The character 'R' and 'D' represent the Radiant party and the Dire party. Then if there are n senators, the size of the given string will be n.\n",
    "\n",
    "The round-based procedure starts from the first senator to the last senator in the given order. This procedure will last until the end of voting. All the senators who have lost their rights will be skipped during the procedure.\n",
    "\n",
    "Suppose every senator is smart enough and will play the best strategy for his own party. Predict which party will finally announce the victory and change the Dota2 game. The output should be \"Radiant\" or \"Dire\".\n",
    "\n",
    " \n",
    "\n",
    "Example 1:\n",
    "\n",
    "Input: senate = \"RD\"\n",
    "Output: \"Radiant\"\n",
    "Explanation: \n",
    "The first senator comes from Radiant and he can just ban the next senator's right in round 1. \n",
    "And the second senator can't exercise any rights anymore since his right has been banned. \n",
    "And in round 2, the first senator can just announce the victory since he is the only guy in the senate who can vote.\n",
    "Example 2:\n",
    "\n",
    "Input: senate = \"RDD\"\n",
    "Output: \"Dire\"\n",
    "Explanation: \n",
    "The first senator comes from Radiant and he can just ban the next senator's right in round 1. \n",
    "And the second senator can't exercise any rights anymore since his right has been banned. \n",
    "And the third senator comes from Dire and he can ban the first senator's right in round 1. \n",
    "And in round 2, the third senator can just announce the victory since he is the only guy in the senate who can vote.\n",
    " \n",
    "\n",
    "Constraints:\n",
    "\n",
    "n == senate.length\n",
    "1 <= n <= 104\n",
    "senate[i] is either 'R' or 'D'."
   ]
  },
  {
   "cell_type": "code",
   "execution_count": 2,
   "id": "7d6dc63d-7e22-48bd-9965-b5c185d01e5e",
   "metadata": {},
   "outputs": [],
   "source": [
    "class Solution:\n",
    "    def predictPartyVictory(self, senate: str) -> str:\n",
    "        # A round-based procedure: DDRRR\n",
    "        rqueue = deque()\n",
    "        dqueue = deque()\n",
    "        n = len(senate) - 1\n",
    "        for i, v in enumerate(senate):\n",
    "            if v == \"R\":\n",
    "                rqueue.append(i)\n",
    "            else:\n",
    "                dqueue.append(i)\n",
    "\n",
    "        while rqueue and dqueue: # \n",
    "            n += 1\n",
    "            if rqueue.popleft() < dqueue.popleft():\n",
    "                rqueue.append(n)\n",
    "            else:\n",
    "                dqueue.append(n)\n",
    "        return \"Radiant\" if len(rqueue) != 0 else \"Dire\""
   ]
  },
  {
   "cell_type": "code",
   "execution_count": 3,
   "id": "23d02630-1e4d-489e-bdc4-96909d90d9e4",
   "metadata": {},
   "outputs": [
    {
     "data": {
      "text/plain": [
       "'Dire'"
      ]
     },
     "execution_count": 3,
     "metadata": {},
     "output_type": "execute_result"
    }
   ],
   "source": [
    "s = Solution()\n",
    "s.predictPartyVictory(\"DRDRR\")"
   ]
  },
  {
   "cell_type": "code",
   "execution_count": null,
   "id": "60cf504e-a884-4472-9f90-296bce255ead",
   "metadata": {},
   "outputs": [],
   "source": []
  }
 ],
 "metadata": {
  "kernelspec": {
   "display_name": "Python 3 (ipykernel)",
   "language": "python",
   "name": "python3"
  },
  "language_info": {
   "codemirror_mode": {
    "name": "ipython",
    "version": 3
   },
   "file_extension": ".py",
   "mimetype": "text/x-python",
   "name": "python",
   "nbconvert_exporter": "python",
   "pygments_lexer": "ipython3",
   "version": "3.11.5"
  }
 },
 "nbformat": 4,
 "nbformat_minor": 5
}
