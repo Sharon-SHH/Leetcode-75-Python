{
 "cells": [
  {
   "cell_type": "markdown",
   "id": "8ef342f5-f679-41cb-af03-1d6c772c855d",
   "metadata": {},
   "source": [
    "### 934. Shortest Bridge\n",
    "You are given an n x n binary matrix grid where 1 represents land and 0 represents water.\n",
    "\n",
    "An island is a 4-directionally connected group of 1's not connected to any other 1's. There are exactly two islands in grid.\n",
    "\n",
    "You may change 0's to 1's to connect the two islands to form one island.\n",
    "\n",
    "Return the smallest number of 0's you must flip to connect the two islands.\n",
    "\n",
    " \n",
    "\n",
    "Example 1:\n",
    "\n",
    "Input: grid = [[0,1],[1,0]]\n",
    "Output: 1\n",
    "\n",
    "Example 2:\n",
    "\n",
    "Input: grid = [[1,1,1,1,1],[1,0,0,0,1],[1,0,1,0,1],[1,0,0,0,1],[1,1,1,1,1]]\n",
    "Output: 1\n",
    " \n",
    "\n",
    "Constraints:\n",
    "\n",
    "- n == grid.length == grid[i].length\n",
    "- 2 <= n <= 100\n",
    "- grid[i][j] is either 0 or 1.\n",
    "- There are exactly two islands in grid."
   ]
  },
  {
   "cell_type": "code",
   "execution_count": 1,
   "id": "3bd6bde1-f866-4ad2-9be5-705365f08dab",
   "metadata": {},
   "outputs": [
    {
     "data": {
      "text/plain": [
       "1"
      ]
     },
     "execution_count": 1,
     "metadata": {},
     "output_type": "execute_result"
    }
   ],
   "source": [
    "from collections import deque\n",
    "from typing import List\n",
    "class Solution:\n",
    "    def shortestBridge(self, grid: List[List[int]]) -> int:\n",
    "        n = len(grid)\n",
    "        first_x, first_y = -1, -1\n",
    "        \n",
    "        # Find any land cell, and we treat it as a cell of island A.\n",
    "        for i in range(n):\n",
    "            for j in range(n):\n",
    "                if grid[i][j] == 1:\n",
    "                    first_x, first_y = i, j\n",
    "                    break\n",
    "        bfs = [(first_x, first_y)]  # saving all cells of island A to bfs\n",
    "        grid[first_x][first_y] = 2\n",
    "        queue = deque([(first_x, first_y)])\n",
    "        while len(queue) > 0:\n",
    "            x,y = queue.popleft()\n",
    "            for cur_x, cur_y in [(x+1, y), (x-1, y), (x, y+1), (x, y-1)]:\n",
    "                if 0 <= cur_x < n and 0 <= cur_y < n and grid[cur_x][cur_y] == 1:\n",
    "                    grid[cur_x][cur_y] = 2\n",
    "                    queue.append((cur_x, cur_y))\n",
    "                    bfs.append((cur_x, cur_y))\n",
    "        distance = 0\n",
    "        while len(bfs) > 0: # move from all cells of island A to B\n",
    "            new_bfs = []\n",
    "            for x, y in bfs:\n",
    "                for cur_x, cur_y in [(x+1, y), (x-1, y), (x, y+1), (x, y-1)]:\n",
    "                    if 0 <= cur_x < n and 0 <= cur_y < n:\n",
    "                        if grid[cur_x][cur_y] == 1:\n",
    "                            return distance\n",
    "                        elif grid[cur_x][cur_y] == 0:\n",
    "                            new_bfs.append((cur_x, cur_y))\n",
    "                            grid[cur_x][cur_y] = -1\n",
    "            bfs = new_bfs\n",
    "            distance += 1\n",
    "        return distance\n",
    "\n",
    "grid = [[1,1,1,1,1],[1,0,0,0,1],[1,0,1,0,1],[1,0,0,0,1],[1,1,1,1,1]]\n",
    "s = Solution()\n",
    "s.shortestBridge(grid)"
   ]
  },
  {
   "cell_type": "code",
   "execution_count": 4,
   "id": "e7ec2944-156f-4e24-813a-31110a0b345f",
   "metadata": {},
   "outputs": [],
   "source": [
    "a = [1,2,4, 3]\n",
    "a.sort(reverse=True)"
   ]
  },
  {
   "cell_type": "code",
   "execution_count": 5,
   "id": "00dcfc4d-37b3-4a09-bb6a-854400095312",
   "metadata": {},
   "outputs": [
    {
     "data": {
      "text/plain": [
       "[4, 3, 2, 1]"
      ]
     },
     "execution_count": 5,
     "metadata": {},
     "output_type": "execute_result"
    }
   ],
   "source": [
    "a"
   ]
  },
  {
   "cell_type": "code",
   "execution_count": 2,
   "id": "83dcda44-a9bb-4d45-a1b7-f7902ff3790b",
   "metadata": {},
   "outputs": [
    {
     "data": {
      "text/plain": [
       "1"
      ]
     },
     "execution_count": 2,
     "metadata": {},
     "output_type": "execute_result"
    }
   ],
   "source": [
    "def shortestBridge(grid: List[List[int]]) -> int:\n",
    "    n = len(grid)\n",
    "    first_x, first_y = -1, -1\n",
    "    \n",
    "    for i in range(n):\n",
    "        for j in range(n):\n",
    "            if grid[i][j] == 1:\n",
    "                first_x, first_y = i, j\n",
    "                break\n",
    "    def firstland(i,j): # set all values of first land to be 2\n",
    "        bfs = [(i,j)]\n",
    "        grid[i][j] = 2\n",
    "        queue = deque([(i,j)])\n",
    "        while len(queue) > 0:\n",
    "            x,y = queue.popleft()\n",
    "            for cur_x, cur_y in [(x+1, y), (x-1, y), (x, y+1), (x, y-1)]:\n",
    "                if 0 <= cur_x < n and 0 <= cur_y < n and grid[cur_x][cur_y] == 1:\n",
    "                    grid[cur_x][cur_y] = 2\n",
    "                    queue.append((cur_x, cur_y))\n",
    "                    bfs.append((cur_x, cur_y))\n",
    "        return bfs\n",
    "    bfs = firstland(first_x,first_y)\n",
    "    distance = 0\n",
    "    while len(bfs) > 0:\n",
    "        new_bfs = []\n",
    "        for x, y in bfs:\n",
    "            for cur_x, cur_y in [(x+1, y), (x-1, y), (x, y+1), (x, y-1)]:\n",
    "                if 0 <= cur_x < n and 0 <= cur_y < n:\n",
    "                    if grid[cur_x][cur_y] == 1:\n",
    "                        return distance\n",
    "                    elif grid[cur_x][cur_y] == 0:\n",
    "                        new_bfs.append((cur_x, cur_y))\n",
    "                        grid[cur_x][cur_y] = -1\n",
    "        bfs = new_bfs\n",
    "        distance += 1\n",
    "    return distance\n",
    "grid = [[1,1,1,1,1],[1,0,0,0,1],[1,0,1,0,1],[1,0,0,0,1],[1,1,1,1,1]]\n",
    "shortestBridge(grid)"
   ]
  },
  {
   "cell_type": "code",
   "execution_count": 3,
   "id": "c5305f21-ef9b-47c0-9f07-733df7cd14c0",
   "metadata": {},
   "outputs": [
    {
     "name": "stdout",
     "output_type": "stream",
     "text": [
      "0 1\n",
      "1 2\n",
      "2 2\n",
      "3 2\n"
     ]
    }
   ],
   "source": [
    "grid = [[0,1,0,1,1,0],[0,0,1,1,1,0],[0,0,1,0,0,0],[0,0,1,0,0,0],[0,0,0,0,0,0],[0,0,0,0,0,0]]\n",
    "n = len(grid)\n",
    "first_x, first_y = -1, -1\n",
    "\n",
    "for i in range(n): # outer loop iterates the rows\n",
    "    for j in range(n): # when inner loop find the value, it breaks;\n",
    "        if grid[i][j] == 1:\n",
    "            first_x, first_y = i, j\n",
    "            print(i,j)\n",
    "            break"
   ]
  },
  {
   "cell_type": "code",
   "execution_count": 21,
   "id": "55a77bf4-037d-49b5-b467-5c409d479dd2",
   "metadata": {},
   "outputs": [
    {
     "name": "stdout",
     "output_type": "stream",
     "text": [
      "[20, 16, 12, 8, 4] [18, 14, 10]\n",
      "-2\n"
     ]
    }
   ],
   "source": [
    "a = [4,6,3,1,4,2,10,9,5]\n",
    "b = [5,10,3,2,6,1,9]\n",
    "a = [3, 5,5,3]\n",
    "b =[7,7]\n",
    "a = [4,20,16,12,8]\n",
    "b = [14, 18, 10]\n",
    "# a = [4, 7, 5]\n",
    "# b = [5]\n",
    "\n",
    "def minimumAddedInteger(nums1: List[int], nums2: List[int]) -> int:\n",
    "    k = 0\n",
    "    nums1.sort(reverse=True)\n",
    "    nums2.sort(reverse=True)\n",
    "    mn = float(\"inf\")\n",
    "    \n",
    "    start = 0\n",
    "    n, m = len(nums1), len(nums2)\n",
    "    print(nums1, nums2)\n",
    "    while start < n:\n",
    "        i = start\n",
    "        j = 0\n",
    "        diff = nums2[j] - nums1[start]\n",
    "        \n",
    "        while i < n and j < m and k <= 2:\n",
    "            if nums2[j] - nums1[i]!= diff:\n",
    "                k += 1\n",
    "            else:\n",
    "                j += 1\n",
    "            i += 1\n",
    "        if j == m:\n",
    "            mn = min(mn, diff)\n",
    "        \n",
    "        start += 1\n",
    "        k = 0\n",
    "    return mn\n",
    "print(minimumAddedInteger(a, b))"
   ]
  },
  {
   "cell_type": "code",
   "execution_count": 3,
   "id": "d533207f-6aa5-4cbb-b2c8-141bffe71396",
   "metadata": {},
   "outputs": [
    {
     "name": "stdout",
     "output_type": "stream",
     "text": [
      "97 65\n"
     ]
    }
   ],
   "source": [
    "print(ord(\"a\"), ord(\"A\"))"
   ]
  }
 ],
 "metadata": {
  "kernelspec": {
   "display_name": "Python 3 (ipykernel)",
   "language": "python",
   "name": "python3"
  },
  "language_info": {
   "codemirror_mode": {
    "name": "ipython",
    "version": 3
   },
   "file_extension": ".py",
   "mimetype": "text/x-python",
   "name": "python",
   "nbconvert_exporter": "python",
   "pygments_lexer": "ipython3",
   "version": "3.11.9"
  }
 },
 "nbformat": 4,
 "nbformat_minor": 5
}
