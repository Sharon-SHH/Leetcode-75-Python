{
 "cells": [
  {
   "cell_type": "markdown",
   "id": "1ebcb4f1-7509-4f2c-b8b8-a1a6f2a5d456",
   "metadata": {},
   "source": [
    "### 2300. Successful Pairs of Spells and Potions\n",
    "You are given two positive integer arrays spells and potions, of length n and m respectively, where spells[i] represents the strength of the ith spell and potions[j] represents the strength of the jth potion.\n",
    "\n",
    "You are also given an integer success. A spell and potion pair is considered successful if the product of their strengths is at least success.\n",
    "\n",
    "Return an integer array pairs of length n where pairs[i] is the number of potions that will form a successful pair with the ith spell.\n",
    "\n",
    "Example 1:\n",
    "\n",
    "Input: spells = [5,1,3], potions = [1,2,3,4,5], success = 7  \n",
    "Output: [4,0,3]  \n",
    "Explanation:  \n",
    "- 0th spell: 5 * [1,2,3,4,5] = [5,10,15,20,25]. 4 pairs are successful.  \n",
    "- 1st spell: 1 * [1,2,3,4,5] = [1,2,3,4,5]. 0 pairs are successful.  \n",
    "- 2nd spell: 3 * [1,2,3,4,5] = [3,6,9,12,15]. 3 pairs are successful.  \n",
    "Thus, [4,0,3] is returned.\n",
    "\n",
    "Constraints:\n",
    "\n",
    "- n == spells.length\n",
    "- m == potions.length\n",
    "- 1 <= n, m <= $10^5$\n",
    "- 1 <= spells[i], potions[i] <= $10^5$\n",
    "- 1 <= success <= 1010\n"
   ]
  },
  {
   "cell_type": "code",
   "execution_count": 1,
   "id": "07a0eaca-b7d7-4a47-befb-ac2fa3edd7da",
   "metadata": {},
   "outputs": [
    {
     "data": {
      "text/plain": [
       "[4, 0, 3]"
      ]
     },
     "execution_count": 1,
     "metadata": {},
     "output_type": "execute_result"
    }
   ],
   "source": [
    "from typing import List\n",
    "import bisect\n",
    "class Solution:\n",
    "    def successfulPairs(self, spells: List[int], potions: List[int], success: int) -> List[int]:\n",
    "        # position can be sorted first\n",
    "        potions.sort()\n",
    "        res = []\n",
    "        m = len(potions)\n",
    "        maxPotion = potions[m - 1]\n",
    "        for spell in spells:\n",
    "            minPotion = (success + spell - 1) // spell\n",
    "            if minPotion > maxPotion:\n",
    "                res.append(0)\n",
    "                continue\n",
    "            idx = bisect.bisect_left(potions, minPotion)\n",
    "            res.append(m - idx)\n",
    "        return res\n",
    "    def successfulPairs1(self, spells: List[int], potions: List[int], success: int) -> List[int]:\n",
    "        # position can be sorted first\n",
    "        potions.sort()\n",
    "        res = []\n",
    "        def potion_num(num, potions):\n",
    "            product = [num*x for x in potions]\n",
    "            left, right = 0,len(product) - 1\n",
    "            while left < right:\n",
    "                mid = (left + right) // 2\n",
    "                if product[mid] < success:\n",
    "                    left = mid + 1\n",
    "                else:\n",
    "                    right = mid - 1\n",
    "            \n",
    "            return (len(product)-left) if left != 0 else (len(product)-left)\n",
    "        for i in range(len(spells)):\n",
    "            if spells[i] * potions[-1] < success:\n",
    "                res.append(0)\n",
    "            elif spells[i] * potions[0] >= success:\n",
    "                res.append(len(potions))\n",
    "            else:\n",
    "                res.append(potion_num(spells[i], potions))\n",
    "        return res\n",
    "s = Solution()\n",
    "spells = [5,1,3]\n",
    "potions = [1,2,3,4,5]\n",
    "s.successfulPairs(spells, potions, 7)"
   ]
  }
 ],
 "metadata": {
  "kernelspec": {
   "display_name": "Python 3 (ipykernel)",
   "language": "python",
   "name": "python3"
  },
  "language_info": {
   "codemirror_mode": {
    "name": "ipython",
    "version": 3
   },
   "file_extension": ".py",
   "mimetype": "text/x-python",
   "name": "python",
   "nbconvert_exporter": "python",
   "pygments_lexer": "ipython3",
   "version": "3.11.9"
  }
 },
 "nbformat": 4,
 "nbformat_minor": 5
}
