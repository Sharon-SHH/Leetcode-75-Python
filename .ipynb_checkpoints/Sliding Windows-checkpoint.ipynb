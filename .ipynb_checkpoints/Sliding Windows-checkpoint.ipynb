{
 "cells": [
  {
   "cell_type": "markdown",
   "id": "185d6dd6",
   "metadata": {},
   "source": [
    "## 643. Maximum Average Subarray I\n",
    "You are given an integer array nums consisting of n elements, and an integer k.\n",
    "\n",
    "Find a contiguous subarray whose length is equal to k that has the maximum average value and return this value. Any answer with a calculation error less than 10-5 will be accepted.\n",
    "\n",
    "\n",
    "Example 1:\n",
    "\n",
    "Input: nums = [1,12,-5,-6,50,3], k = 4  \n",
    "Output: 12.75000  \n",
    "Explanation: Maximum average is (12 - 5 - 6 + 50) / 4 = 51 / 4 = 12.75\n",
    "\n",
    "Constraints:\n",
    "\n",
    "- n == nums.length\n",
    "- 1 <= k <= n <= $10^5$\n",
    "- -$10^4$ <= nums[i] <= $10^4$"
   ]
  },
  {
   "cell_type": "code",
   "execution_count": 1,
   "id": "a1e3e003",
   "metadata": {},
   "outputs": [
    {
     "data": {
      "text/plain": [
       "12.75"
      ]
     },
     "execution_count": 1,
     "metadata": {},
     "output_type": "execute_result"
    }
   ],
   "source": [
    "from typing import List\n",
    "class Solution:\n",
    "    def findMaxAverage(self, nums: List[int], k: int) -> float:\n",
    "        start, end = 0, 0\n",
    "        max_ = float(\"-inf\")\n",
    "        sum_ = 0\n",
    "        while start <= len(nums) - k:\n",
    "            while end < k:\n",
    "                sum_ += nums[start+end]\n",
    "                end += 1\n",
    "            max_ = max(max_, sum_)\n",
    "            sum_ -= nums[start]\n",
    "            start += 1\n",
    "            end -= 1\n",
    "        return max_ / k\n",
    "    \n",
    "    def findMaxAverage_opt(self, nums: List[int], k: int) -> float:\n",
    "        sum_ = max_ = sum(nums[:k])\n",
    "        for i in range(k, len(nums)):\n",
    "            sum_ += nums[i] - nums[i-k] # remove left, add right\n",
    "            max_ = max(max_, sum_)\n",
    "        \n",
    "        return max_ / k\n",
    "nums = [1,12,-5,-6,50,3]\n",
    "k = 4\n",
    "s = Solution()\n",
    "s.findMaxAverage(nums, k)"
   ]
  },
  {
   "cell_type": "markdown",
   "id": "6f2b5bef",
   "metadata": {},
   "source": [
    "Time complexity: O(n).   \n",
    "Space complexity: o(1)"
   ]
  },
  {
   "cell_type": "markdown",
   "id": "de94bfbd",
   "metadata": {},
   "source": [
    "## 1456. Maximum Number of Vowels in a Substring of Given Length\n",
    "Given a string s and an integer k, return the maximum number of vowel letters in any substring of s with length k.\n",
    "\n",
    "Vowel letters in English are 'a', 'e', 'i', 'o', and 'u'.\n",
    "\n",
    "Example 1:\n",
    "\n",
    "Input: s = \"abciiidef\", k = 3  \n",
    "Output: 3  \n",
    "Explanation: The substring \"iii\" contains 3 vowel letters.\n",
    " \n",
    "\n",
    "Constraints:\n",
    "\n",
    "- 1 <= s.length <= $10^5$\n",
    "- s consists of lowercase English letters.\n",
    "- 1 <= k <= s.length"
   ]
  },
  {
   "cell_type": "code",
   "execution_count": 2,
   "id": "91c35bee",
   "metadata": {},
   "outputs": [
    {
     "data": {
      "text/plain": [
       "3"
      ]
     },
     "execution_count": 2,
     "metadata": {},
     "output_type": "execute_result"
    }
   ],
   "source": [
    "class Solution:\n",
    "    def maxVowels(self, s: str, k: int) -> int:\n",
    "        out = 0\n",
    "        left, win = 0, 0\n",
    "        curr_mx = 0\n",
    "        vowels = \"aeiou\"\n",
    "        while left <= len(s) - k:\n",
    "            while win < k:\n",
    "                if s[left+win] in vowels:\n",
    "                    curr_mx += 1\n",
    "                win += 1\n",
    "            out = max(out, curr_mx)\n",
    "            curr_mx -= s[left] in vowels\n",
    "            left += 1\n",
    "            win -= 1\n",
    "        return out\n",
    "    def maxVowels_alter(self, s: str, k: int) -> int:\n",
    "        out = 0\n",
    "        vowels = {'a', 'e', 'i', 'o', 'u'}\n",
    "        for i in range(k):\n",
    "            if s[i] in vowels:\n",
    "                out += 1\n",
    "        curr_mx = out\n",
    "        for i in range(k, len(s)):\n",
    "            curr_mx += s[i] in vowels\n",
    "            curr_mx -= s[i-k] in vowels\n",
    "            out = max(out, curr_mx)\n",
    "        return out\n",
    "s = \"abciiidef\"\n",
    "k = 3\n",
    "sol = Solution()\n",
    "sol.maxVowels_alter(s, k)"
   ]
  },
  {
   "cell_type": "markdown",
   "id": "f43ed989",
   "metadata": {},
   "source": [
    "## 1493. Longest Subarray of 1's After Deleting One Element\n",
    "Given a binary array nums, you should delete one element from it.\n",
    "\n",
    "Return the size of the longest non-empty subarray containing only 1's in the resulting array. Return 0 if there is no such subarray.\n",
    "\n",
    "Example 1:\n",
    "\n",
    "Input: nums = [0,1,1,1,0,1,1,0,1]  \n",
    "Output: 5  \n",
    "Explanation: After deleting the number in position 4, [0,1,1,1,1,1,0,1] longest subarray with value of 1's is [1,1,1,1,1].  \n",
    "\n",
    "Constraints:\n",
    "\n",
    "- 1 <= nums.length <= $10^5$\n",
    "- nums[i] is either 0 or 1."
   ]
  },
  {
   "cell_type": "code",
   "execution_count": 3,
   "id": "123c971a",
   "metadata": {},
   "outputs": [],
   "source": [
    "class Solution:\n",
    "    def longestSubarray(self, nums: List[int]) -> int:\n",
    "        k = 1\n",
    "        left, right = 0, 0\n",
    "        curr_mx = mx = 0\n",
    "        while right < len(nums):\n",
    "            if k == 0 and nums[right] == 0:\n",
    "                mx = max(mx, curr_mx)\n",
    "                curr_mx -= nums[left] == 1\n",
    "                if nums[left] == 0:\n",
    "                    k += 1\n",
    "                left += 1\n",
    "            elif k == 1 and nums[right] == 0:\n",
    "                k -= 1\n",
    "                right += 1\n",
    "            elif nums[right] == 1:\n",
    "                curr_mx += 1\n",
    "                right += 1\n",
    "        mx = max(mx, curr_mx) - int(k == 1)\n",
    "            \n",
    "        return mx"
   ]
  },
  {
   "cell_type": "markdown",
   "id": "7354c78e",
   "metadata": {},
   "source": [
    "## 1004. Max Consecutive Ones III\n",
    "Given a binary array nums and an integer k, return the maximum number of consecutive 1's in the array if you can flip at most k 0's.\n",
    "\n",
    "Example 1:\n",
    "\n",
    "Input: nums = [1,1,1,0,0,0,1,1,1,1,0], k = 2  \n",
    "Output: 6  \n",
    "Explanation: [1,1,1,0,0,1,1,1,1,1,1]  \n",
    "Bolded numbers were flipped from 0 to 1. The longest subarray is underlined.  \n",
    "\n",
    "Constraints:\n",
    "\n",
    "- 1 <= nums.length <= $10^5$\n",
    "- nums[i] is either 0 or 1.\n",
    "- 0 <= k <= nums.length"
   ]
  },
  {
   "cell_type": "code",
   "execution_count": 4,
   "id": "cfe3c293",
   "metadata": {},
   "outputs": [
    {
     "data": {
      "text/plain": [
       "6"
      ]
     },
     "execution_count": 4,
     "metadata": {},
     "output_type": "execute_result"
    }
   ],
   "source": [
    "class Solution:\n",
    "    def longestOnes(self, nums: List[int], k: int) -> int:\n",
    "        zeros = 0\n",
    "        left = right = 0\n",
    "        res = 0\n",
    "        while right < len(nums):\n",
    "            if zeros == k and nums[right] == 0: # sliding-win over\n",
    "                res = max(res, right - left)\n",
    "                if nums[left] == 0:\n",
    "                    zeros -= 1\n",
    "                left += 1\n",
    "            else:\n",
    "                if nums[right] == 0:\n",
    "                    zeros += 1\n",
    "                right += 1\n",
    "        res = max(res, right - left)\n",
    "        return res\n",
    "    def longestOnes_opt(self, nums: List[int], k: int) -> int:\n",
    "        left, right = 0, 0\n",
    "        mx = 0\n",
    "        num_0 = 0\n",
    "        while right < len(nums):\n",
    "            if nums[right] == 0:\n",
    "                num_0 += 1\n",
    "            while num_0 > k: # contract new window\n",
    "                if nums[left] == 0:\n",
    "                    num_0 -= 1\n",
    "                left += 1\n",
    "            mx = max(mx, right - left + 1)\n",
    "            right += 1\n",
    "        return mx\n",
    "nums = [1,1,1,0,0,0,1,1,1,1,0]\n",
    "k = 2\n",
    "s = Solution()\n",
    "s.longestOnes_opt(nums, k)"
   ]
  },
  {
   "cell_type": "markdown",
   "id": "b68d5465",
   "metadata": {},
   "source": [
    "Time complexity: O(n).  \n",
    "Space complexity: O(1)"
   ]
  }
 ],
 "metadata": {
  "kernelspec": {
   "display_name": "Python 3 (ipykernel)",
   "language": "python",
   "name": "python3"
  },
  "language_info": {
   "codemirror_mode": {
    "name": "ipython",
    "version": 3
   },
   "file_extension": ".py",
   "mimetype": "text/x-python",
   "name": "python",
   "nbconvert_exporter": "python",
   "pygments_lexer": "ipython3",
   "version": "3.11.5"
  }
 },
 "nbformat": 4,
 "nbformat_minor": 5
}
