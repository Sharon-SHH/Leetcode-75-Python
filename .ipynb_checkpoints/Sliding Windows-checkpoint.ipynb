{
 "cells": [
  {
   "cell_type": "markdown",
   "id": "3d8ffc74",
   "metadata": {},
   "source": [
    "## 643. Maximum Average Subarray I\n",
    "You are given an integer array nums consisting of n elements, and an integer k.\n",
    "\n",
    "Find a contiguous subarray whose length is equal to k that has the maximum average value and return this value. Any answer with a calculation error less than 10-5 will be accepted.\n",
    "\n",
    "\n",
    "Example 1:\n",
    "\n",
    "Input: nums = [1,12,-5,-6,50,3], k = 4  \n",
    "Output: 12.75000  \n",
    "Explanation: Maximum average is (12 - 5 - 6 + 50) / 4 = 51 / 4 = 12.75\n",
    "\n",
    "Constraints:\n",
    "\n",
    "- n == nums.length\n",
    "- 1 <= k <= n <= $10^5$\n",
    "- -$10^4$ <= nums[i] <= $10^4$"
   ]
  },
  {
   "cell_type": "code",
   "execution_count": 4,
   "id": "f0c33683",
   "metadata": {},
   "outputs": [
    {
     "data": {
      "text/plain": [
       "12.75"
      ]
     },
     "execution_count": 4,
     "metadata": {},
     "output_type": "execute_result"
    }
   ],
   "source": [
    "from typing import List\n",
    "class Solution:\n",
    "    def findMaxAverage(self, nums: List[int], k: int) -> float:\n",
    "        start, end = 0, 0\n",
    "        max_ = float(\"-inf\")\n",
    "        sum_ = 0\n",
    "        while start <= len(nums) - k:\n",
    "            while end < k:\n",
    "                sum_ += nums[start+end]\n",
    "                end += 1\n",
    "            max_ = max(max_, sum_)\n",
    "            sum_ -= nums[start]\n",
    "            start += 1\n",
    "            end -= 1\n",
    "        return max_ / k\n",
    "nums = [1,12,-5,-6,50,3]\n",
    "k = 4\n",
    "s = Solution()\n",
    "s.findMaxAverage(nums, k)"
   ]
  },
  {
   "cell_type": "code",
   "execution_count": null,
   "id": "8fdabfa9",
   "metadata": {},
   "outputs": [],
   "source": []
  },
  {
   "cell_type": "code",
   "execution_count": null,
   "id": "cc6b1083",
   "metadata": {},
   "outputs": [],
   "source": []
  },
  {
   "cell_type": "code",
   "execution_count": null,
   "id": "9f124b5b",
   "metadata": {},
   "outputs": [],
   "source": []
  },
  {
   "cell_type": "code",
   "execution_count": null,
   "id": "2a622db3",
   "metadata": {},
   "outputs": [],
   "source": []
  },
  {
   "cell_type": "code",
   "execution_count": null,
   "id": "c5060282",
   "metadata": {},
   "outputs": [],
   "source": []
  },
  {
   "cell_type": "code",
   "execution_count": null,
   "id": "3d9de422",
   "metadata": {},
   "outputs": [],
   "source": []
  },
  {
   "cell_type": "code",
   "execution_count": null,
   "id": "7fc3ade1",
   "metadata": {},
   "outputs": [],
   "source": []
  }
 ],
 "metadata": {
  "kernelspec": {
   "display_name": "Python 3 (ipykernel)",
   "language": "python",
   "name": "python3"
  },
  "language_info": {
   "codemirror_mode": {
    "name": "ipython",
    "version": 3
   },
   "file_extension": ".py",
   "mimetype": "text/x-python",
   "name": "python",
   "nbconvert_exporter": "python",
   "pygments_lexer": "ipython3",
   "version": "3.11.5"
  }
 },
 "nbformat": 4,
 "nbformat_minor": 5
}
