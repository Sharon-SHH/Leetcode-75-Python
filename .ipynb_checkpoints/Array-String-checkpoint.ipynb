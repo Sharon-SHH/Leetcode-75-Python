{
 "cells": [
  {
   "cell_type": "markdown",
   "id": "76427f7f",
   "metadata": {},
   "source": [
    "## 1768. Merge Strings Alternately (E)\n",
    "You are given two strings word1 and word2. Merge the strings by adding letters in alternating order, starting with word1. If a string is longer than the other, append the additional letters onto the end of the merged string.\n",
    "\n",
    "Return the merged string.\n",
    "\n",
    "Example 1:  \n",
    "\n",
    "Input: word1 = \"abc\", word2 = \"pqr\"  \n",
    "Output: \"apbqcr\"  \n",
    "Explanation: The merged string will be merged as so:  \n",
    "word1:  a   b   c  \n",
    "word2:    p   q   r  \n",
    "merged: a p b q c r  \n",
    "Constraints:\n",
    "\n",
    "1 <= word1.length, word2.length <= 100\n",
    "word1 and word2 consist of lowercase English letters."
   ]
  },
  {
   "cell_type": "code",
   "execution_count": 2,
   "id": "f754cb01",
   "metadata": {},
   "outputs": [
    {
     "data": {
      "text/plain": [
       "'apbqcr'"
      ]
     },
     "execution_count": 2,
     "metadata": {},
     "output_type": "execute_result"
    }
   ],
   "source": [
    "class Solution:\n",
    "    def mergeAlternately(self, word1: str, word2: str) -> str:\n",
    "        # length smaller, \n",
    "        i, j = 0, 0\n",
    "        res = ''\n",
    "        while i < len(word1) or j < len(word2):\n",
    "            if i < len(word1):\n",
    "                res += word1[i]\n",
    "                i += 1\n",
    "            if j < len(word2):\n",
    "                res += word2[j]\n",
    "                j += 1\n",
    "        return res\n",
    "\n",
    "a = \"abc\"\n",
    "b = \"pqr\"\n",
    "s = Solution()\n",
    "s.mergeAlternately(a,b)"
   ]
  },
  {
   "cell_type": "markdown",
   "id": "49e423fa",
   "metadata": {},
   "source": [
    "## 1071. Greatest Common Divisor of Strings (E)\n",
    "For two strings s and t, we say \"t divides s\" if and only if s = t + t + t + ... + t + t (i.e., t is concatenated with itself one or more times).\n",
    "\n",
    "Given two strings str1 and str2, return the largest string x such that x divides both str1 and str2.\n",
    "\n",
    " \n",
    "\n",
    "Example 1:\n",
    "\n",
    "Input: str1 = \"ABCABC\", str2 = \"ABC\"\n",
    "Output: \"ABC\"\n",
    "\n",
    "Constraints:\n",
    "\n",
    "- 1 <= str1.length, str2.length <= 1000\n",
    "- str1 and str2 consist of English uppercase letters."
   ]
  },
  {
   "cell_type": "code",
   "execution_count": null,
   "id": "b7d13fae",
   "metadata": {},
   "outputs": [],
   "source": []
  },
  {
   "cell_type": "markdown",
   "id": "9e4f30b9",
   "metadata": {},
   "source": [
    "## 605. Can Place Flowers(E)\n",
    "You have a long flowerbed in which some of the plots are planted, and some are not. However, flowers cannot be planted in adjacent plots.\n",
    "\n",
    "Given an integer array flowerbed containing 0's and 1's, where 0 means empty and 1 means not empty, and an integer n, return true if n new flowers can be planted in the flowerbed without violating the no-adjacent-flowers rule and false otherwise.\n",
    "\n",
    " \n",
    "\n",
    "Example 1:\n",
    "\n",
    "Input: flowerbed = [1,0,0,0,1], n = 1\n",
    "Output: true\n",
    "\n",
    "Constraints:\n",
    "\n",
    "- 1 <= flowerbed.length <= 2 * 104\n",
    "- flowerbed[i] is 0 or 1.\n",
    "- There are no two adjacent flowers in flowerbed.\n",
    "- 0 <= n <= flowerbed.length"
   ]
  },
  {
   "cell_type": "code",
   "execution_count": 4,
   "id": "de731749",
   "metadata": {},
   "outputs": [
    {
     "data": {
      "text/plain": [
       "True"
      ]
     },
     "execution_count": 4,
     "metadata": {},
     "output_type": "execute_result"
    }
   ],
   "source": [
    "from typing import List\n",
    "class Solution:\n",
    "    def canPlaceFlowers(self, flowerbed: List[int], n: int) -> bool:\n",
    "        i = 0\n",
    "        while i < len(flowerbed) and n > 0:\n",
    "            if flowerbed[i] == 0:\n",
    "                left = i == 0 or flowerbed[i-1] == 0\n",
    "                right = i == len(flowerbed) - 1 or flowerbed[i+1] == 0\n",
    "                if left and right:\n",
    "                    flowerbed[i] = 1\n",
    "                    n -= 1\n",
    "            i += 1\n",
    "        return n == 0\n",
    "\n",
    "s = Solution()\n",
    "s.canPlaceFlowers([1,0,0,0,1,0,0], 1)"
   ]
  },
  {
   "cell_type": "code",
   "execution_count": null,
   "id": "a833740a",
   "metadata": {},
   "outputs": [],
   "source": []
  },
  {
   "cell_type": "code",
   "execution_count": null,
   "id": "7dc548f1",
   "metadata": {},
   "outputs": [],
   "source": []
  },
  {
   "cell_type": "code",
   "execution_count": null,
   "id": "b19ecb03",
   "metadata": {},
   "outputs": [],
   "source": []
  }
 ],
 "metadata": {
  "kernelspec": {
   "display_name": "Python 3 (ipykernel)",
   "language": "python",
   "name": "python3"
  },
  "language_info": {
   "codemirror_mode": {
    "name": "ipython",
    "version": 3
   },
   "file_extension": ".py",
   "mimetype": "text/x-python",
   "name": "python",
   "nbconvert_exporter": "python",
   "pygments_lexer": "ipython3",
   "version": "3.11.5"
  }
 },
 "nbformat": 4,
 "nbformat_minor": 5
}
