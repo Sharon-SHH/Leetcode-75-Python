{
 "cells": [
  {
   "cell_type": "markdown",
   "id": "f03d3762",
   "metadata": {},
   "source": [
    "## 1768. Merge Strings Alternately (E)\n",
    "You are given two strings word1 and word2. Merge the strings by adding letters in alternating order, starting with word1. If a string is longer than the other, append the additional letters onto the end of the merged string.\n",
    "\n",
    "Return the merged string.\n",
    "\n",
    "Example 1:  \n",
    "\n",
    "Input: word1 = \"abc\", word2 = \"pqr\"  \n",
    "Output: \"apbqcr\"  \n",
    "Explanation: The merged string will be merged as so:  \n",
    "word1:  a   b   c  \n",
    "word2:    p   q   r  \n",
    "merged: a p b q c r  \n",
    "Constraints:\n",
    "\n",
    "1 <= word1.length, word2.length <= 100\n",
    "word1 and word2 consist of lowercase English letters."
   ]
  },
  {
   "cell_type": "code",
   "execution_count": 2,
   "id": "0910753d",
   "metadata": {},
   "outputs": [
    {
     "data": {
      "text/plain": [
       "'apbqcr'"
      ]
     },
     "execution_count": 2,
     "metadata": {},
     "output_type": "execute_result"
    }
   ],
   "source": [
    "class Solution:\n",
    "    def mergeAlternately(self, word1: str, word2: str) -> str:\n",
    "        # length smaller, \n",
    "        i, j = 0, 0\n",
    "        res = ''\n",
    "        while i < len(word1) or j < len(word2):\n",
    "            if i < len(word1):\n",
    "                res += word1[i]\n",
    "                i += 1\n",
    "            if j < len(word2):\n",
    "                res += word2[j]\n",
    "                j += 1\n",
    "        return res\n",
    "\n",
    "a = \"abc\"\n",
    "b = \"pqr\"\n",
    "s = Solution()\n",
    "s.mergeAlternately(a,b)"
   ]
  },
  {
   "cell_type": "markdown",
   "id": "c98166fe",
   "metadata": {},
   "source": [
    "## 1071. Greatest Common Divisor of Strings (E)\n",
    "For two strings s and t, we say \"t divides s\" if and only if s = t + t + t + ... + t + t (i.e., t is concatenated with itself one or more times).\n",
    "\n",
    "Given two strings str1 and str2, return the largest string x such that x divides both str1 and str2.\n",
    "\n",
    " \n",
    "\n",
    "Example 1:\n",
    "\n",
    "Input: str1 = \"ABCABC\", str2 = \"ABC\"\n",
    "Output: \"ABC\"\n",
    "\n",
    "Constraints:\n",
    "\n",
    "- 1 <= str1.length, str2.length <= 1000\n",
    "- str1 and str2 consist of English uppercase letters."
   ]
  },
  {
   "cell_type": "code",
   "execution_count": null,
   "id": "61df42b2",
   "metadata": {},
   "outputs": [],
   "source": []
  },
  {
   "cell_type": "markdown",
   "id": "3bb68926",
   "metadata": {},
   "source": [
    "## 605. Can Place Flowers(E)\n",
    "You have a long flowerbed in which some of the plots are planted, and some are not. However, flowers cannot be planted in adjacent plots.\n",
    "\n",
    "Given an integer array flowerbed containing 0's and 1's, where 0 means empty and 1 means not empty, and an integer n, return true if n new flowers can be planted in the flowerbed without violating the no-adjacent-flowers rule and false otherwise.\n",
    "\n",
    " \n",
    "\n",
    "Example 1:\n",
    "\n",
    "Input: flowerbed = [1,0,0,0,1], n = 1\n",
    "Output: true\n",
    "\n",
    "Constraints:\n",
    "\n",
    "- 1 <= flowerbed.length <= 2 * 104\n",
    "- flowerbed[i] is 0 or 1.\n",
    "- There are no two adjacent flowers in flowerbed.\n",
    "- 0 <= n <= flowerbed.length"
   ]
  },
  {
   "cell_type": "code",
   "execution_count": 4,
   "id": "6cad43f1",
   "metadata": {},
   "outputs": [
    {
     "data": {
      "text/plain": [
       "True"
      ]
     },
     "execution_count": 4,
     "metadata": {},
     "output_type": "execute_result"
    }
   ],
   "source": [
    "from typing import List\n",
    "class Solution:\n",
    "    def canPlaceFlowers(self, flowerbed: List[int], n: int) -> bool:\n",
    "        i = 0\n",
    "        while i < len(flowerbed) and n > 0:\n",
    "            if flowerbed[i] == 0:\n",
    "                left = i == 0 or flowerbed[i-1] == 0\n",
    "                right = i == len(flowerbed) - 1 or flowerbed[i+1] == 0\n",
    "                if left and right:\n",
    "                    flowerbed[i] = 1\n",
    "                    n -= 1\n",
    "            i += 1\n",
    "        return n == 0\n",
    "\n",
    "s = Solution()\n",
    "s.canPlaceFlowers([1,0,0,0,1,0,0], 1)"
   ]
  },
  {
   "cell_type": "markdown",
   "id": "d1d6273e",
   "metadata": {},
   "source": [
    "## 345. Reverse Vowels of a String\n",
    "Given a string s, reverse only all the vowels in the string and return it.\n",
    "\n",
    "The vowels are 'a', 'e', 'i', 'o', and 'u', and they can appear in both lower and upper cases, more than once.\n",
    "\n",
    "\n",
    "Example 1:\n",
    "\n",
    "Input: s = \"hello\"  \n",
    "Output: \"holle\"  \n",
    "\n",
    "\n",
    "Constraints:\n",
    "\n",
    "1 <= s.length <= 3 * 105\n",
    "s consist of printable ASCII characters."
   ]
  },
  {
   "cell_type": "code",
   "execution_count": 5,
   "id": "bda675f9",
   "metadata": {},
   "outputs": [
    {
     "data": {
      "text/plain": [
       "'holle'"
      ]
     },
     "execution_count": 5,
     "metadata": {},
     "output_type": "execute_result"
    }
   ],
   "source": [
    "class Solution:\n",
    "    def reverseVowels(self, s: str) -> str:\n",
    "        start, end = 0, len(s)-1\n",
    "        # vowels = ['a', 'e', 'i', 'o', 'u', 'A', 'E', 'I', 'O', 'U']\n",
    "        vowels = \"aeiouAEIOU\"\n",
    "        ls = list(s)\n",
    "        while start < end:\n",
    "            while start < end and s[start] not in vowels:\n",
    "                start += 1\n",
    "            while start < end and s[end] not in vowels:\n",
    "                end -= 1\n",
    "            # start and end are vowels\n",
    "            ls[start], ls[end] = ls[end], ls[start]\n",
    "            start += 1\n",
    "            end -= 1\n",
    "        return \"\".join(ls)\n",
    "sol = Solution()\n",
    "sol.reverseVowels(\"hello\")"
   ]
  },
  {
   "cell_type": "markdown",
   "id": "cf3f384a",
   "metadata": {},
   "source": [
    "### Algorithm:\n",
    "Two pointers  \n",
    "Time complexity: O(n), n is the length of the string s.  \n",
    "Space complexity: O(n)"
   ]
  },
  {
   "cell_type": "markdown",
   "id": "8236f484",
   "metadata": {},
   "source": [
    "## 1431. Kids With the Greatest Number of Candies\n",
    "There are n kids with candies. You are given an integer array candies, where each candies[i] represents the number of candies the ith kid has, and an integer extraCandies, denoting the number of extra candies that you have.\n",
    "\n",
    "Return a boolean array result of length n, where result[i] is true if, after giving the ith kid all the extraCandies, they will have the greatest number of candies among all the kids, or false otherwise.\n",
    "\n",
    "Note that multiple kids can have the greatest number of candies.\n",
    "\n",
    " \n",
    "\n",
    "Example 1:\n",
    "\n",
    "Input: candies = [2,3,5,1,3], extraCandies = 3  \n",
    "Output: [true,true,true,false,true]   \n",
    "Explanation: If you give all extraCandies to:  \n",
    "- Kid 1, they will have 2 + 3 = 5 candies, which is the greatest among the kids.\n",
    "- Kid 2, they will have 3 + 3 = 6 candies, which is the greatest among the kids.\n",
    "- Kid 3, they will have 5 + 3 = 8 candies, which is the greatest among the kids.\n",
    "- Kid 4, they will have 1 + 3 = 4 candies, which is not the greatest among the kids.\n",
    "- Kid 5, they will have 3 + 3 = 6 candies, which is the greatest among the kids."
   ]
  },
  {
   "cell_type": "code",
   "execution_count": 7,
   "id": "a7059ead",
   "metadata": {},
   "outputs": [
    {
     "data": {
      "text/plain": [
       "[True, True, True, False, True]"
      ]
     },
     "execution_count": 7,
     "metadata": {},
     "output_type": "execute_result"
    }
   ],
   "source": [
    "class Solution:\n",
    "    def kidsWithCandies(self, candies: List[int], extraCandies: int) \\\n",
    "    -> List[bool]:\n",
    "        # find the max of elements except the current position\n",
    "        greatest = max(candies)\n",
    "        res = []\n",
    "        for candy in candies:\n",
    "            res.append(candy + extraCandies >= greatest) \n",
    "        return res\n",
    "\n",
    "extraCandies = 3\n",
    "candies = [2, 3, 5, 1, 3]\n",
    "s = Solution()\n",
    "s.kidsWithCandies(candies, extraCandies)"
   ]
  },
  {
   "cell_type": "code",
   "execution_count": null,
   "id": "82784d52",
   "metadata": {},
   "outputs": [],
   "source": []
  },
  {
   "cell_type": "code",
   "execution_count": null,
   "id": "733cb4a5",
   "metadata": {},
   "outputs": [],
   "source": []
  }
 ],
 "metadata": {
  "kernelspec": {
   "display_name": "Python 3 (ipykernel)",
   "language": "python",
   "name": "python3"
  },
  "language_info": {
   "codemirror_mode": {
    "name": "ipython",
    "version": 3
   },
   "file_extension": ".py",
   "mimetype": "text/x-python",
   "name": "python",
   "nbconvert_exporter": "python",
   "pygments_lexer": "ipython3",
   "version": "3.11.5"
  }
 },
 "nbformat": 4,
 "nbformat_minor": 5
}
