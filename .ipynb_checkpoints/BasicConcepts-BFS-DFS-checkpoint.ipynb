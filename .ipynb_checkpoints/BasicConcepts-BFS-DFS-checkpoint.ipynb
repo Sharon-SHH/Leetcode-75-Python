{
 "cells": [
  {
   "cell_type": "markdown",
   "id": "5d65ac86-aed2-4912-ac86-e44fca139707",
   "metadata": {},
   "source": [
    "### 94. Binary Tree Inorder Traversal (E)\n",
    "Given the root of a binary tree, return the inorder traversal of its nodes' values.\n",
    "\n",
    "Example 1:\n",
    "\n",
    "Input: root = [1,null,2,3]  \n",
    "Output: [1,3,2]  \n",
    "## Visit the left subtree, the root node, and then the right subtree."
   ]
  },
  {
   "cell_type": "code",
   "execution_count": 1,
   "id": "85500bb6-6f83-4304-add8-bb3cb52cace3",
   "metadata": {},
   "outputs": [
    {
     "data": {
      "text/plain": [
       "[6, 5, 7, 1, 3, 2, 4]"
      ]
     },
     "execution_count": 1,
     "metadata": {},
     "output_type": "execute_result"
    }
   ],
   "source": [
    "from typing import List, Optional\n",
    "class TreeNode:\n",
    "    def __init__(self, val=0, left=None, right=None):\n",
    "        self.val = val\n",
    "        self.left = left\n",
    "        self.right = right\n",
    "class Solution:\n",
    "    def inorderTraversal(self, root: Optional[TreeNode]) -> List[int]:\n",
    "        res = []\n",
    "        curr = root\n",
    "        stack = []\n",
    "        while curr or stack:\n",
    "            while curr:\n",
    "                stack.append(curr)\n",
    "                curr = curr.left\n",
    "            \n",
    "            node = stack.pop()\n",
    "            res.append(node.val)\n",
    "            if node.right:\n",
    "                curr = node.right\n",
    "        return res\n",
    "\n",
    "# root = [1,5,2,6,7,3,4]\n",
    "root = TreeNode(1)\n",
    "root.left = TreeNode(5)\n",
    "root.right = TreeNode(2)\n",
    "root.left.left = TreeNode(6)\n",
    "root.left.right = TreeNode(7)\n",
    "root.right.left = TreeNode(3)\n",
    "root.right.right = TreeNode(4)\n",
    "    \n",
    "s = Solution()\n",
    "s.inorderTraversal(root)"
   ]
  },
  {
   "cell_type": "markdown",
   "id": "63b8b207-4820-43eb-a874-50260cf8393c",
   "metadata": {},
   "source": [
    "### 144. Binary Tree Preorder Traversal\n",
    "Given the root of a binary tree, return the preorder traversal of its nodes' values.\n",
    "\n",
    "Example 1:\n",
    "\n",
    "Input: root = [1,null,2,3]\n",
    "Output: [1,2,3]\n",
    "\n",
    "## - Visit the root node, the left subtree, and then the right subtree."
   ]
  },
  {
   "cell_type": "code",
   "execution_count": 2,
   "id": "5bcafb67-4cf6-417b-9ea6-57e526d9863e",
   "metadata": {},
   "outputs": [
    {
     "data": {
      "text/plain": [
       "[1, 5, 6, 7, 2, 3, 4]"
      ]
     },
     "execution_count": 2,
     "metadata": {},
     "output_type": "execute_result"
    }
   ],
   "source": [
    "# Definition for a binary tree node.\n",
    "# class TreeNode:\n",
    "#     def __init__(self, val=0, left=None, right=None):\n",
    "#         self.val = val\n",
    "#         self.left = left\n",
    "#         self.right = right\n",
    "class Solution:\n",
    "    def preorderTraversal(self, root: Optional[TreeNode]) -> List[int]:\n",
    "        res = []\n",
    "        curr = root\n",
    "        stack = []\n",
    "        while curr or stack:\n",
    "            while curr:\n",
    "                res.append(curr.val)\n",
    "                stack.append(curr)\n",
    "                curr = curr.left\n",
    "\n",
    "            node = stack.pop()\n",
    "            if node.right:\n",
    "                curr = node.right\n",
    "        return res\n",
    "s = Solution()\n",
    "s.preorderTraversal(root)"
   ]
  },
  {
   "cell_type": "markdown",
   "id": "965649ae-ba1a-4836-b771-92cde3fc24ca",
   "metadata": {},
   "source": [
    "### 145. Binary Tree Postorder Traversal (E)\n",
    "Given the root of a binary tree, return the postorder traversal of its nodes' values.\n",
    "\n",
    "Example 1:\n",
    "\n",
    "Input: root = [1,null,2,3]  \n",
    "Output: [3,2,1]\n",
    "## Visit the left subtree, the right subtree, and then the root node."
   ]
  },
  {
   "cell_type": "code",
   "execution_count": 3,
   "id": "e7f0ee57-a88d-4681-ab97-223258e6b4a3",
   "metadata": {},
   "outputs": [
    {
     "data": {
      "text/plain": [
       "[6, 7, 5, 3, 4, 2, 1]"
      ]
     },
     "execution_count": 3,
     "metadata": {},
     "output_type": "execute_result"
    }
   ],
   "source": [
    "# Definition for a binary tree node.\n",
    "# class TreeNode:\n",
    "#     def __init__(self, val=0, left=None, right=None):\n",
    "#         self.val = val\n",
    "#         self.left = left\n",
    "#         self.right = right\n",
    "class Solution:\n",
    "    def postorderTraversal(self, root: Optional[TreeNode]) -> List[int]:\n",
    "        res = []\n",
    "        stack = []\n",
    "        curr = root\n",
    "        last_visited_node = None\n",
    "        while curr or stack:\n",
    "            if curr:\n",
    "                stack.append(curr)\n",
    "                curr = curr.left\n",
    "            else:\n",
    "                node = stack[-1]\n",
    "                if node.right and node.right != last_visited_node: # node.right\n",
    "                    curr = node.right\n",
    "                else:\n",
    "                    stack.pop() # node = no\n",
    "                    last_visited_node = node\n",
    "                    res.append(node.val)\n",
    "        return res\n",
    "s = Solution()\n",
    "s.postorderTraversal(root) "
   ]
  },
  {
   "cell_type": "markdown",
   "id": "786c60a0-8cdd-4c3e-a496-ff25b3cac769",
   "metadata": {},
   "source": [
    "# Complexity\n",
    "- Time complexity: $O(n)$\n",
    "\n",
    "- Space complexity: $O(n)$"
   ]
  },
  {
   "cell_type": "markdown",
   "id": "26895715",
   "metadata": {},
   "source": [
    "## 100. Same Tree (E)\n",
    "Given the roots of two binary trees p and q, write a function to check if they are the same or not.\n",
    "\n",
    "Two binary trees are considered the same if they are structurally identical, and the nodes have the same value.\n",
    "\n",
    "Example 1:\n",
    "\n",
    "Input: p = [1,2,3], q = [1,2,3]\n",
    "Output: true\n",
    "\n",
    "Constraints:\n",
    "\n",
    "- The number of nodes in both trees is in the range [0, 100].\n",
    "- $10^4$ <= Node.val <= $10^4$"
   ]
  },
  {
   "cell_type": "code",
   "execution_count": 4,
   "id": "138009b9",
   "metadata": {},
   "outputs": [],
   "source": [
    "from typing import Optional\n",
    "# Definition for a binary tree node.\n",
    "class TreeNode:\n",
    "    def __init__(self, val=0, left=None, right=None):\n",
    "        self.val = val\n",
    "        self.left = left\n",
    "        self.right = right\n",
    "class Solution:\n",
    "    def isSameTree(self, p: Optional[TreeNode], q: Optional[TreeNode]) -> bool:\n",
    "        if not p or not q: # !! If the number is 0\n",
    "            return p == q\n",
    "        stackP = [p]\n",
    "        stackQ = [q]\n",
    "        def check(nodeP, nodeQ):\n",
    "            if nodeP and nodeQ:\n",
    "                if nodeP.val == nodeQ.val:\n",
    "                    return True\n",
    "                else:\n",
    "                    return False\n",
    "            elif nodeP and not nodeQ or not nodeP and nodeQ:\n",
    "                return False\n",
    "        while len(stackP) > 0 and len(stackQ) > 0:\n",
    "            nodeP = stackP.pop()\n",
    "            nodeQ = stackQ.pop()\n",
    "            if nodeP.val != nodeQ.val:\n",
    "                return False\n",
    "            out = check(nodeP.left, nodeQ.left)\n",
    "            if out:\n",
    "                stackP.append(nodeP.left)\n",
    "                stackQ.append(nodeQ.left)\n",
    "            elif out is False:\n",
    "                return False\n",
    "            out = check(nodeP.right, nodeQ.right)\n",
    "            if out:\n",
    "                stackP.append(nodeP.right)\n",
    "                stackQ.append(nodeQ.right)\n",
    "            elif out is False:\n",
    "                return False\n",
    "        return True"
   ]
  },
  {
   "cell_type": "markdown",
   "id": "5b9b4652",
   "metadata": {},
   "source": [
    "## 314. Binary Tree Vertical Order Traversal\n",
    "Given the root of a binary tree, return ***the vertical order traversal*** of its nodes' values. (i.e., from top to bottom, column by column).\n",
    "\n",
    "If two nodes are in the same row and column, the order should be from left to right. \n",
    "\n",
    "Example 1:\n",
    "\n",
    "Input: root = [3,9,20,null,null,15,7]  \n",
    "Output: [[9],[3,15],[20],[7]]  \n",
    "Constraints:\n",
    "\n",
    "- The number of nodes in the tree is in the range [0, 100].\n",
    "- -100 <= Node.val <= 100"
   ]
  },
  {
   "cell_type": "code",
   "execution_count": 5,
   "id": "4ec0e064",
   "metadata": {},
   "outputs": [],
   "source": [
    "from typing import List\n",
    "# Definition for a binary tree node.\n",
    "class TreeNode:\n",
    "    def __init__(self, val=0, left=None, right=None):\n",
    "        self.val = val\n",
    "        self.left = left\n",
    "        self.right = right\n",
    "class Solution:\n",
    "    def verticalOrder(self, root: Optional[TreeNode]) -> List[List[int]]:\n",
    "        countTable = defaultdict(list) # key: num, val:[node.val]\n",
    "        queue = deque([(root,0)]) # initialize queue has a tuple\n",
    "        while len(queue) > 0:\n",
    "            node, val = queue.popleft()\n",
    "            if node is not None:\n",
    "                countTable[val].append(node.val) \n",
    "                if node.left:\n",
    "                    queue.append((node.left, val - 1))\n",
    "                if node.right:\n",
    "                    queue.append((node.right, val + 1))\n",
    "        # countTable = sorted(countTable.items(), key=lambda x: x[0])\n",
    "        return [countTable[x] for x in sorted(countTable.keys())]"
   ]
  },
  {
   "cell_type": "code",
   "execution_count": 6,
   "id": "6e92c220",
   "metadata": {},
   "outputs": [
    {
     "data": {
      "text/plain": [
       "[(1, [1, 2, 3]), (4, [11, 33]), (6, [8, 9])]"
      ]
     },
     "execution_count": 6,
     "metadata": {},
     "output_type": "execute_result"
    }
   ],
   "source": [
    "d = {1:[1,2,3], 6:[8,9], 4:[11,33]}\n",
    "sorted(d.items(), key=lambda x: x[0]) # sorted value : return list"
   ]
  },
  {
   "cell_type": "code",
   "execution_count": null,
   "id": "4a2b11cd",
   "metadata": {},
   "outputs": [],
   "source": []
  },
  {
   "cell_type": "code",
   "execution_count": null,
   "id": "85b144e0",
   "metadata": {},
   "outputs": [],
   "source": []
  }
 ],
 "metadata": {
  "kernelspec": {
   "display_name": "Python 3 (ipykernel)",
   "language": "python",
   "name": "python3"
  },
  "language_info": {
   "codemirror_mode": {
    "name": "ipython",
    "version": 3
   },
   "file_extension": ".py",
   "mimetype": "text/x-python",
   "name": "python",
   "nbconvert_exporter": "python",
   "pygments_lexer": "ipython3",
   "version": "3.11.9"
  }
 },
 "nbformat": 4,
 "nbformat_minor": 5
}
