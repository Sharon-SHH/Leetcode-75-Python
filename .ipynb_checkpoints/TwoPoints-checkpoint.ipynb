{
 "cells": [
  {
   "cell_type": "markdown",
   "id": "73f16f4a",
   "metadata": {},
   "source": [
    "### 392. Is Subsequence\n",
    "\n",
    "Given two strings s and t, return true if s is a subsequence of t, or false otherwise.\n",
    "\n",
    "A subsequence of a string is a new string that is formed from the original string by deleting some (can be none) of the characters without disturbing the relative positions of the remaining characters. (i.e., \"ace\" is a subsequence of \"abcde\" while \"aec\" is not).\n",
    "\n",
    " \n",
    "\n",
    "Example 1:\n",
    "\n",
    "Input: s = \"abc\", t = \"ahbgdc\"\n",
    "Output: true\n",
    "Example 2:\n",
    "\n",
    "Input: s = \"axc\", t = \"ahbgdc\"\n",
    "Output: false\n",
    " \n",
    "\n",
    "Constraints:\n",
    "\n",
    "- 0 <= s.length <= 100\n",
    "- 0 <= t.length <= $10^4$\n",
    "- s and t consist only of lowercase English letters.\n",
    " \n",
    "\n",
    "Follow up: Suppose there are lots of incoming s, say s1, s2, ..., sk where k >= $10^9$, and you want to check one by one to see if t has its subsequence. In this scenario, how would you change your code?"
   ]
  },
  {
   "cell_type": "code",
   "execution_count": 10,
   "id": "25f70918",
   "metadata": {},
   "outputs": [
    {
     "data": {
      "text/plain": [
       "defaultdict(None, {'a': (0, [3]), 'c': (0, [5]), 'b': (0, [4])})"
      ]
     },
     "execution_count": 10,
     "metadata": {},
     "output_type": "execute_result"
    }
   ],
   "source": [
    "from collections import defaultdict\n",
    "s = \"abc\"\n",
    "t = \"acbabc\"\n",
    "seq = defaultdict()\n",
    "for i,c in enumerate(t):\n",
    "    if c in s:\n",
    "        seq[c] = (0, [])\n",
    "        seq[c][1].append(i)\n",
    "seq"
   ]
  },
  {
   "cell_type": "code",
   "execution_count": null,
   "id": "e1b0cfe4",
   "metadata": {},
   "outputs": [],
   "source": []
  },
  {
   "cell_type": "markdown",
   "id": "752dd38a",
   "metadata": {},
   "source": [
    "### 283. Move Zeroes\n",
    "\n",
    "Given an integer array nums, move all 0's to the end of it while maintaining the relative order of the non-zero elements.\n",
    "\n",
    "Note that you must do this in-place without making a copy of the array.\n",
    "\n",
    " \n",
    "\n",
    "Example 1:\n",
    "\n",
    "Input: nums = [0,1,0,3,12]  \n",
    "Output: [1,3,12,0,0]  \n",
    "Example 2:\n",
    "\n",
    "Input: nums = [0]\n",
    "Output: [0]\n",
    " \n",
    "\n",
    "Constraints:\n",
    "\n",
    "1 <= nums.length <= $10^4$\n",
    "-$2^{31}$ <= nums[i] <= $2^{31}$ - 1\n",
    " \n",
    "\n",
    "Follow up: Could you minimize the total number of operations done?"
   ]
  },
  {
   "cell_type": "code",
   "execution_count": 3,
   "id": "f14b8074",
   "metadata": {},
   "outputs": [
    {
     "name": "stdout",
     "output_type": "stream",
     "text": [
      "[1, 3, 12, 0, 0]\n"
     ]
    }
   ],
   "source": [
    "from typing import List\n",
    "class Solution:\n",
    "    def moveZeroes(self, nums: List[int]) -> None:\n",
    "        \"\"\"\n",
    "        Do not return anything, modify nums in-place instead.\n",
    "        \"\"\"\n",
    "        zero = 0\n",
    "        for i in range(len(nums)):\n",
    "            if nums[i] != 0:\n",
    "                nums[zero], nums[i] = nums[i], nums[zero]\n",
    "                zero += 1\n",
    "        print(nums)\n",
    "s = Solution()\n",
    "s.moveZeroes([0,1,0,3,12])"
   ]
  },
  {
   "cell_type": "markdown",
   "id": "a8164ba6",
   "metadata": {},
   "source": [
    "Time complexity: O(n), n is the length of nums  \n",
    "Space complexity: O(1)"
   ]
  },
  {
   "cell_type": "markdown",
   "id": "40dcff19",
   "metadata": {},
   "source": [
    "### 11. Container With Most Water\n",
    "You are given an integer array height of length n. There are n vertical lines drawn such that the two endpoints of the ith line are (i, 0) and (i, height[i]).  \n",
    "\n",
    "Find two lines that together with the x-axis form a container, such that the container contains the most water.\n",
    "\n",
    "Return the maximum amount of water a container can store.\n",
    "\n",
    "Notice that you may not slant the container.\n",
    "\n",
    "Example 1:\n",
    "\n",
    "\n",
    "Input: height = [1,8,6,2,5,4,8,3,7]  \n",
    "Output: 49  \n",
    "Explanation: The above vertical lines are represented by array [1,8,6,2,5,4,8,3,7]. In this case, the max area of water (blue section) the container can contain is 49."
   ]
  },
  {
   "cell_type": "code",
   "execution_count": null,
   "id": "7b299519",
   "metadata": {},
   "outputs": [],
   "source": []
  },
  {
   "cell_type": "code",
   "execution_count": null,
   "id": "14d0f70c",
   "metadata": {},
   "outputs": [],
   "source": []
  },
  {
   "cell_type": "code",
   "execution_count": null,
   "id": "1a08407e",
   "metadata": {},
   "outputs": [],
   "source": []
  },
  {
   "cell_type": "code",
   "execution_count": null,
   "id": "75da16ea",
   "metadata": {},
   "outputs": [],
   "source": []
  },
  {
   "cell_type": "markdown",
   "id": "64a9c63a",
   "metadata": {},
   "source": [
    "### 1679. Max Number of K-Sum Pairs\n",
    "You are given an integer array nums and an integer k.\n",
    "\n",
    "In one operation, you can pick two numbers from the array whose sum equals k and remove them from the array.\n",
    "\n",
    "Return the maximum number of operations you can perform on the array.\n",
    "\n",
    "\n",
    "Example 1:\n",
    "\n",
    "Input: nums = [1,2,3,4], k = 5  \n",
    "Output: 2   \n",
    "Explanation: Starting with nums = [1,2,3,4]:\n",
    "- Remove numbers 1 and 4, then nums = [2,3]\n",
    "- Remove numbers 2 and 3, then nums = []\n",
    "There are no more pairs that sum up to 5, hence a total of 2 operations.\n",
    "Example 2:\n",
    "\n",
    "Input: nums = [3,1,3,4,3], k = 6\n",
    "Output: 1\n",
    "Explanation: Starting with nums = [3,1,3,4,3]:\n",
    "- Remove the first two 3's, then nums = [1,4,3]\n",
    "There are no more pairs that sum up to 6, hence a total of 1 operation.\n",
    " \n",
    "\n",
    "Constraints:\n",
    "\n",
    "1 <= nums.length <= 105\n",
    "1 <= nums[i] <= 109\n",
    "1 <= k <= 109"
   ]
  },
  {
   "cell_type": "code",
   "execution_count": null,
   "id": "9c9c4162",
   "metadata": {},
   "outputs": [],
   "source": []
  }
 ],
 "metadata": {
  "kernelspec": {
   "display_name": "Python 3 (ipykernel)",
   "language": "python",
   "name": "python3"
  },
  "language_info": {
   "codemirror_mode": {
    "name": "ipython",
    "version": 3
   },
   "file_extension": ".py",
   "mimetype": "text/x-python",
   "name": "python",
   "nbconvert_exporter": "python",
   "pygments_lexer": "ipython3",
   "version": "3.11.5"
  }
 },
 "nbformat": 4,
 "nbformat_minor": 5
}
