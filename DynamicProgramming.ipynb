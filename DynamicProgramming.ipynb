{
 "cells": [
  {
   "cell_type": "markdown",
   "id": "1364023f-d509-446a-bb9d-a6e712edcd4c",
   "metadata": {},
   "source": [
    "### 1137. N-th Tribonacci Number\n",
    "The Tribonacci sequence Tn is defined as follows: \n",
    "\n",
    "T0 = 0, T1 = 1, T2 = 1, and Tn+3 = Tn + Tn+1 + Tn+2 for n >= 0.\n",
    "\n",
    "Given n, return the value of Tn.\n",
    "\n",
    "Example 1:\n",
    "\n",
    "Input: n = 4  \n",
    "Output: 4  \n",
    "Explanation:  \n",
    "T_3 = 0 + 1 + 1 = 2  \n",
    "T_4 = 1 + 1 + 2 = 4\n",
    " \n",
    "\n",
    "Constraints:\n",
    "\n",
    "- 0 <= n <= 37\n",
    "- The answer is guaranteed to fit within a 32-bit integer, ie. answer <= $2^{31}$ - 1.\n",
    "\n",
    "\n",
    "### Approach 1: Dynamic Programming (Top Down)\n",
    "Intuition\n",
    "Let dfs(i) be the value of the $i^{th}$ tribonacci number, and according to the given recurrence relation, we have:\n",
    "dfs(i) = dfs(i - 1) + dfs(i - 2) + dfs(i - 3)."
   ]
  },
  {
   "cell_type": "code",
   "execution_count": 2,
   "id": "ca255a10-e9bc-4b85-ad34-36e4c96484c0",
   "metadata": {},
   "outputs": [
    {
     "data": {
      "text/plain": [
       "4"
      ]
     },
     "execution_count": 2,
     "metadata": {},
     "output_type": "execute_result"
    }
   ],
   "source": [
    "class Solution:\n",
    "    def tribonacci(self, n: int) -> int:\n",
    "        dp = {0:0, 1:1, 2:1}\n",
    "        def dps(i):\n",
    "            if i in dp:\n",
    "                return dp[i]\n",
    "\n",
    "            dp[i] = dps(i-1) + dps(i-2) + dps(i-3)\n",
    "            return dp[i]\n",
    "        return dps(n)\n",
    "    def tribonacci1(self, n: int) -> int:\n",
    "        if n < 3:\n",
    "            return 1 if n else 0\n",
    "        dp = [0] * (n + 1)\n",
    "        dp[1] = dp[2] = 1\n",
    "        for i in range(3, n + 1):\n",
    "            dp[i] = dp[i - 1] + dp[i - 2] + dp[i - 3]\n",
    "        return dp[n]\n",
    "    def tribonacci2(self, n: int) -> int:\n",
    "        T0 = 0\n",
    "        T1 = 1\n",
    "        T2 = 1\n",
    "        if n < 3:\n",
    "            return 1 if n else 0\n",
    "        for i in range(3, n+1):\n",
    "            T2, T0, T1 = T0 + T1 + T2, T1, T2\n",
    "        return T2\n",
    "        \n",
    "s = Solution()\n",
    "s.tribonacci(4)"
   ]
  },
  {
   "cell_type": "code",
   "execution_count": null,
   "id": "9656f3ad-0d6c-4aed-b2f7-62a6870abf6f",
   "metadata": {},
   "outputs": [],
   "source": []
  },
  {
   "cell_type": "code",
   "execution_count": null,
   "id": "a75a1278-4dbd-4e67-97de-8388e32512cc",
   "metadata": {},
   "outputs": [],
   "source": []
  },
  {
   "cell_type": "code",
   "execution_count": null,
   "id": "4331ce41-7a1a-43ec-aedd-aa5e3d092818",
   "metadata": {},
   "outputs": [],
   "source": []
  }
 ],
 "metadata": {
  "kernelspec": {
   "display_name": "Python 3 (ipykernel)",
   "language": "python",
   "name": "python3"
  },
  "language_info": {
   "codemirror_mode": {
    "name": "ipython",
    "version": 3
   },
   "file_extension": ".py",
   "mimetype": "text/x-python",
   "name": "python",
   "nbconvert_exporter": "python",
   "pygments_lexer": "ipython3",
   "version": "3.11.9"
  }
 },
 "nbformat": 4,
 "nbformat_minor": 5
}
