{
 "cells": [
  {
   "cell_type": "markdown",
   "metadata": {},
   "source": [
    "208. Implement Trie (Prefix Tree)\n",
    "\n",
    "\n",
    "Implement the Trie class:\n",
    "\n",
    "A trie (pronounced as \"try\") or prefix tree is a tree data structure used to efficiently store and retrieve keys in a dataset of strings. There are various applications of this data structure, such as autocomplete and spellchecker.\n",
    "Trie() Initializes the trie object.\n",
    "void insert(String word) Inserts the string word into the trie.\n",
    "boolean search(String word) Returns true if the string word is in the trie (i.e., was inserted before), and false otherwise.\n",
    "boolean startsWith(String prefix) Returns true if there is a previously inserted string word that has the prefix prefix, and false otherwise."
   ]
  },
  {
   "cell_type": "markdown",
   "metadata": {},
   "source": [
    "Example 1:\n",
    "\n",
    "Input\n",
    "[\"Trie\", \"insert\", \"search\", \"search\", \"startsWith\", \"insert\", \"search\"]\n",
    "[[], [\"apple\"], [\"apple\"], [\"app\"], [\"app\"], [\"app\"], [\"app\"]]\n",
    "Output\n",
    "[null, null, true, false, true, null, true]\n",
    "\n",
    "Explanation\n",
    "Trie trie = new Trie();\n",
    "trie.insert(\"apple\");\n",
    "trie.search(\"apple\");   // return True\n",
    "trie.search(\"app\");     // return False\n",
    "trie.startsWith(\"app\"); // return True\n",
    "trie.insert(\"app\");\n",
    "trie.search(\"app\");     // return True"
   ]
  },
  {
   "cell_type": "code",
   "execution_count": 1,
   "metadata": {},
   "outputs": [],
   "source": [
    "class TrieNode:\n",
    "    def __init__(self):\n",
    "        self.children = [None] * 26\n",
    "        self.isEnd = False\n",
    "class Trie:\n",
    "\n",
    "    def __init__(self):\n",
    "        self.root = TrieNode()\n",
    "\n",
    "    def insert(self, word: str) -> None:\n",
    "        newRoot = self.root\n",
    "        for character in word:\n",
    "            alphaIndex = ord(character) - ord(\"a\")\n",
    "            if not newRoot.children[alphaIndex]:\n",
    "                newRoot.children[alphaIndex] = TrieNode()\n",
    "            newRoot = newRoot.children[alphaIndex]\n",
    "        newRoot.isEnd = True\n",
    "\n",
    "    def search(self, word: str) -> bool:\n",
    "        node = self.root\n",
    "        for ch in word:\n",
    "            alphaIdx = ord(ch) - ord(\"a\")\n",
    "            if node and node.children[alphaIdx]:\n",
    "                node = node.children[alphaIdx]\n",
    "            else:\n",
    "                return False\n",
    "        return node.isEnd\n",
    "\n",
    "    def startsWith(self, prefix: str) -> bool:\n",
    "        node = self.root\n",
    "        for ch in prefix:\n",
    "            alphaIdx = ord(ch) - ord(\"a\")\n",
    "            if node and node.children[alphaIdx]:\n",
    "                node = node.children[alphaIdx]\n",
    "            else:\n",
    "                return False\n",
    "        return True\n"
   ]
  },
  {
   "cell_type": "code",
   "execution_count": 3,
   "metadata": {},
   "outputs": [
    {
     "name": "stdout",
     "output_type": "stream",
     "text": [
      "True True\n"
     ]
    }
   ],
   "source": [
    "obj = Trie()\n",
    "# \"Trie\",\"insert\",\"search\",\"search\",\"startsWith\",\"insert\",\"search\"]\n",
    "word = \"apple\"\n",
    "prefix = \"app\"\n",
    "obj.insert(word)\n",
    "param_2 = obj.search(word)\n",
    "param_3 = obj.startsWith(prefix)\n",
    "print(param_2, param_3)"
   ]
  }
 ],
 "metadata": {
  "kernelspec": {
   "display_name": "Python 3 (ipykernel)",
   "language": "python",
   "name": "python3"
  },
  "language_info": {
   "codemirror_mode": {
    "name": "ipython",
    "version": 3
   },
   "file_extension": ".py",
   "mimetype": "text/x-python",
   "name": "python",
   "nbconvert_exporter": "python",
   "pygments_lexer": "ipython3",
   "version": "3.11.5"
  }
 },
 "nbformat": 4,
 "nbformat_minor": 4
}
