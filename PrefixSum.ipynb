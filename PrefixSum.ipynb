{
 "cells": [
  {
   "cell_type": "markdown",
   "id": "d13a9130-b9ff-4a64-a445-526191a73c16",
   "metadata": {},
   "source": [
    "### 724. Find Pivot Index (E)\n",
    "Given an array of integers `nums`, calculate the pivot index of this array.\n",
    "\n",
    "The pivot index is the index where the sum of all the numbers strictly to the left of the index is equal to the sum of all the numbers strictly to the index's right.  \n",
    "\n",
    "If the index is on the left edge of the array, then the left sum is 0 because there are no elements to the left. This also applies to the right edge of the array.  \n",
    "\n",
    "Return the leftmost pivot index. If no such index exists, return -1.  \n",
    "\n",
    "Example 1:\n",
    "\n",
    "Input: nums = [1,7,3,6,5,6]  \n",
    "Output: 3  \n",
    "Explanation:  \n",
    "The pivot index is 3.  \n",
    "Left sum = nums[0] + nums[1] + nums[2] = 1 + 7 + 3 = 11  \n",
    "Right sum = nums[4] + nums[5] = 5 + 6 = 11  \n",
    "Example 2:  \n",
    "Input: nums = [1,2,3]  \n",
    "Output: -1  \n",
    "Explanation:  \n",
    "There is no index that satisfies the conditions in the problem statement."
   ]
  },
  {
   "cell_type": "code",
   "execution_count": null,
   "id": "3d2c1ab6-b290-46f4-98c6-8d1020bd1319",
   "metadata": {},
   "outputs": [],
   "source": [
    "class Solution:\n",
    "    def pivotIndex(self, nums: List[int]) -> int:\n",
    "        n = len(nums)\n",
    "        left_sum = [0]\n",
    "        right_sum = [0]*(n+1)\n",
    "        pivot = -1\n",
    "        for j in range(n-1, -1, -1):\n",
    "            right_sum[j] = right_sum[j+1] + nums[j]\n",
    "        for i in range(n):\n",
    "            left_sum.append(left_sum[-1] + nums[i])\n",
    "        \n",
    "            if right_sum[i] == left_sum[i+1]: # left_sum: 0, nums[0], ....\n",
    "                pivot = i\n",
    "                return pivot\n",
    "        return pivot"
   ]
  },
  {
   "cell_type": "markdown",
   "id": "bb07166f-3b5e-489b-917e-2bad3709f3a0",
   "metadata": {},
   "source": [
    "### Algorithm: \n",
    "- use two lists to record left prefix sum and right prefix sum  \n",
    "- find the values in two lists at index i and i+1 that are equal\n",
    " \n",
    "N: the length of the array `nums`;    \n",
    "Time complexity: O(N)   \n",
    "Space complexity: O(N)"
   ]
  },
  {
   "cell_type": "code",
   "execution_count": 1,
   "id": "db49cfe8-a470-4e29-bbb6-39f4e2ffbfe6",
   "metadata": {},
   "outputs": [],
   "source": [
    "class Solution(object):\n",
    "    def pivotIndex(self, nums):\n",
    "        left_sum = 0\n",
    "        sum_ = sum(nums)\n",
    "\n",
    "        for i,val in enumerate(nums):\n",
    "            if left_sum == sum_ - left_sum - val:\n",
    "                return i\n",
    "            left_sum += val\n",
    "        return -1"
   ]
  },
  {
   "cell_type": "markdown",
   "id": "4667de8e-f1e6-43bf-829c-047892f80b94",
   "metadata": {},
   "source": [
    "### Algorithm:\n",
    "- right_sum = sum(nums) - left_sum - pivot_value\n",
    "- find the index that right_sum == left_sum\n",
    "\n",
    "Time complexity: O(N)  \n",
    "Space complexity: O(1)"
   ]
  },
  {
   "cell_type": "markdown",
   "id": "f42256d0-da8f-4999-9807-cffb8f558eab",
   "metadata": {},
   "source": [
    "### 1732. Find the Highest Altitude\n",
    "There is a biker going on a road trip. The road trip consists of n + 1 points at different altitudes. The biker starts his trip on point 0 with altitude equal 0.  \n",
    "\n",
    "You are given an integer array gain of length n where gain[i] is the net gain in altitude between points i​​​​​​ and i + 1 for all (0 <= i < n). Return the highest altitude of a point.  \n",
    "\n",
    " \n",
    "\n",
    "Example 1:  \n",
    "\n",
    "Input: gain = [-5,1,5,0,-7]  \n",
    "Output: 1  \n",
    "Explanation: The altitudes are [0,-5,-4,1,1,-6]. The highest is 1.  \n",
    "Example 2:\n",
    "\n",
    "Input: gain = [-4,-3,-2,-1,4,3,2]  \n",
    "Output: 0  \n",
    "Explanation: The altitudes are [0,-4,-7,-9,-10,-6,-3,-1]. The highest is 0.   \n",
    " \n",
    "\n",
    "#### Constraints:\n",
    "\n",
    "- n == gain.length\n",
    "- 1 <= n <= 100\n",
    "- -100 <= gain[i] <= 100"
   ]
  },
  {
   "cell_type": "code",
   "execution_count": 3,
   "id": "11361f96-491a-41eb-9696-f07c57000391",
   "metadata": {},
   "outputs": [],
   "source": [
    "from typing import List\n",
    "class Solution:\n",
    "    def largestAltitude(self, gain: List[int]) -> int:\n",
    "        res = 0\n",
    "        pre_sum = 0  # record prefix sum\n",
    "        for val in gain:\n",
    "            pre_sum += val\n",
    "            if val > 0:\n",
    "                res = max(res, pre_sum)\n",
    "            \n",
    "        return res"
   ]
  },
  {
   "cell_type": "markdown",
   "id": "697fa87d-a73c-417d-864f-a6fa481aec1e",
   "metadata": {},
   "source": [
    "Time complexity: O(N)  \n",
    "Space complexity: O(1)"
   ]
  }
 ],
 "metadata": {
  "kernelspec": {
   "display_name": "Python 3 (ipykernel)",
   "language": "python",
   "name": "python3"
  },
  "language_info": {
   "codemirror_mode": {
    "name": "ipython",
    "version": 3
   },
   "file_extension": ".py",
   "mimetype": "text/x-python",
   "name": "python",
   "nbconvert_exporter": "python",
   "pygments_lexer": "ipython3",
   "version": "3.11.5"
  }
 },
 "nbformat": 4,
 "nbformat_minor": 5
}
