{
 "cells": [
  {
   "cell_type": "markdown",
   "id": "be5faf9f-0780-4d39-a2ce-010657c5863d",
   "metadata": {},
   "source": [
    "## 144. Binary Tree Preorder Traversal\n",
    "\n",
    "Given the root of a binary tree, return the preorder traversal of its nodes' values.  \n",
    "Input: root = [1,null,2,3]  \n",
    "Output: [1,2,3]"
   ]
  },
  {
   "cell_type": "code",
   "execution_count": null,
   "id": "6567b547-f65a-4de3-b992-894d64d9de60",
   "metadata": {},
   "outputs": [],
   "source": [
    "class TreeNode:\n",
    "    def __init__(self, val=0, left=None, right=None):\n",
    "        self.val = val\n",
    "        self.left = left\n",
    "        self.right = right\n"
   ]
  },
  {
   "cell_type": "markdown",
   "id": "d986fe45-0447-4870-b143-2b268ada78e6",
   "metadata": {},
   "source": [
    "## 102. Binary Tree Level Order Traversal\n",
    "Given the root of a binary tree, return the level order traversal of its nodes' values. (i.e., from left to right, level by level).\n",
    "\n"
   ]
  }
 ],
 "metadata": {
  "kernelspec": {
   "display_name": "Python 3 (ipykernel)",
   "language": "python",
   "name": "python3"
  },
  "language_info": {
   "codemirror_mode": {
    "name": "ipython",
    "version": 3
   },
   "file_extension": ".py",
   "mimetype": "text/x-python",
   "name": "python",
   "nbconvert_exporter": "python",
   "pygments_lexer": "ipython3",
   "version": "3.11.9"
  }
 },
 "nbformat": 4,
 "nbformat_minor": 5
}
