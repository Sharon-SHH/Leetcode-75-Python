{
 "cells": [
  {
   "cell_type": "markdown",
   "id": "25cf5718-2335-4aa0-94ad-867b8ff2fa23",
   "metadata": {},
   "source": [
    "# Heap queue algorithm\n",
    "Heaps are binary trees for which every parent node has a value less than or equal to any of its children. We refer to this condition as the heap invariant.  [k] <= heap[2*k+1] and heap[k] <= heap[2*k+2]  \n",
    "\n",
    "- To create a heap, use a list initialized to [], or you can transform a populated list into a heap via function heapify(). **heapify(list)**\n",
    "\n",
    "- heapq.heappush(heap, item)\n",
    "- heapq.heappop(heap)\n",
    "- heapq.heapreplace(heap, item)\n",
    "- heapq.nlargest(n, iterable, key=None) // Equivalent to sorted(iterable, key=key, reverse=True)[:n]\n",
    "- heapq.nsmallest(n, iterable, key=None)"
   ]
  },
  {
   "cell_type": "code",
   "execution_count": 6,
   "id": "d7941378-daf6-4eb4-a3a9-884ea9ab3ee3",
   "metadata": {},
   "outputs": [
    {
     "data": {
      "text/plain": [
       "[0, 1, 2, 3, 4, 5, 6, 7, 8, 9]"
      ]
     },
     "execution_count": 6,
     "metadata": {},
     "output_type": "execute_result"
    }
   ],
   "source": [
    "from heapq import heappush, heappop\n",
    "def heapsort(iterable):\n",
    "    h = []\n",
    "    for value in iterable:\n",
    "        heappush(h, value)\n",
    "    return [heappop(h) for i in range(len(h))]\n",
    "\n",
    "heapsort([1, 3, 5, 7, 9, 2, 4, 6, 8, 0])"
   ]
  },
  {
   "cell_type": "markdown",
   "id": "77694abf-2f7f-4fa0-9758-65a3f4e9b7a5",
   "metadata": {},
   "source": [
    "### The K-th Element ==== The Top K Problem\n",
    "The K-th **largest** element: using the **Min heap**\n",
    "\n",
    "Solution of the K-th largest element:\n",
    "\n",
    "1. Construct a Min Heap with size K.\n",
    "2. Add elements to the Min Heap one by one.\n",
    "3. When there are K elements in the “Min Heap”, compare the current element with the top element of the Heap:\n",
    "   - If the current element is not larger than the top element of the Heap, drop it and proceed to the next element.\n",
    "   - If the current element is `larger than the Heap’s top element`, delete the Heap’s top element, and add the current element to the “Min Heap”.\n",
    "4. Repeat Steps 2 and 3 until all elements have been iterated.\n",
    "\n",
    "Now `the top element in the Min Heap` is the K-th largest element."
   ]
  },
  {
   "cell_type": "markdown",
   "id": "1ad4152e-2b26-44c3-9087-42a9863bc8cc",
   "metadata": {},
   "source": [
    "### 215. Kth Largest Element in an Array\n",
    "Given an integer array nums and an integer k, return the kth largest element in the array.\n",
    "\n",
    "Note that it is the kth largest element in the sorted order, not the kth distinct element.\n",
    "\n",
    "Can you solve it without sorting?\n",
    "\n",
    "Example 1:\n",
    "\n",
    "Input: nums = [3,2,3,1,2,4,5,5,6], k = 4\n",
    "Output: 4\n",
    " \n",
    "\n",
    "Constraints:\n",
    "\n",
    "- 1 <= k <= nums.length <= 105\n",
    "- -104 <= nums[i] <= 104"
   ]
  },
  {
   "cell_type": "code",
   "execution_count": 8,
   "id": "be554ce4-3c3d-48ff-967c-8287e0920000",
   "metadata": {},
   "outputs": [
    {
     "data": {
      "text/plain": [
       "4"
      ]
     },
     "execution_count": 8,
     "metadata": {},
     "output_type": "execute_result"
    }
   ],
   "source": [
    "from typing import List\n",
    "import heapq\n",
    "class Solution:\n",
    "    def findKthLargest(self, nums: List[int], k: int) -> int: # create k size min-heap\n",
    "        k_heap = []\n",
    "        for num in nums:\n",
    "            if len(k_heap) < k:\n",
    "                heapq.heappush(k_heap, num)\n",
    "            else:\n",
    "                if num > k_heap[0]:\n",
    "                    heapq.heapreplace(k_heap, num)\n",
    "        return k_heap[0]\n",
    "    def findKthLargest1(self, nums: List[int], k: int) -> int:\n",
    "        if k > len(nums):\n",
    "            return -1\n",
    "        return heapq.nlargest(k, nums)[-1] # heapq.nlargest(k,nums): return a list of k\n",
    "nums = [3,2,3,1,2,4,5,5,6]\n",
    "k = 4\n",
    "s = Solution()\n",
    "s.findKthLargest(nums, k)"
   ]
  },
  {
   "cell_type": "code",
   "execution_count": null,
   "id": "3f949f4a-be29-4edc-895c-7eca27d494b8",
   "metadata": {},
   "outputs": [],
   "source": []
  },
  {
   "cell_type": "markdown",
   "id": "f224bbb8-2c4d-42cd-8194-5caa3df74c17",
   "metadata": {},
   "source": [
    "### 2336. Smallest Number in Infinite Set\n",
    "You have a set which contains all positive integers [1, 2, 3, 4, 5, ...].\n",
    "\n",
    "Implement the SmallestInfiniteSet class:\n",
    "\n",
    "SmallestInfiniteSet() Initializes the SmallestInfiniteSet object to contain all positive integers.\n",
    "int popSmallest() Removes and returns the smallest integer contained in the infinite set.\n",
    "void addBack(int num) Adds a positive integer num back into the infinite set, if it is not already in the infinite set.\n",
    " \n",
    "\n",
    "Example 1:\n",
    "\n",
    "Input\n",
    "[\"SmallestInfiniteSet\", \"addBack\", \"popSmallest\", \"popSmallest\", \"popSmallest\", \"addBack\", \"popSmallest\", \"popSmallest\", \"popSmallest\"]\n",
    "[[], [2], [], [], [], [1], [], [], []]\n",
    "Output\n",
    "[null, null, 1, 2, 3, null, 1, 4, 5]\n",
    "\n",
    "Explanation\n",
    "SmallestInfiniteSet smallestInfiniteSet = new SmallestInfiniteSet();\n",
    "smallestInfiniteSet.addBack(2);    // 2 is already in the set, so no change is made.\n",
    "smallestInfiniteSet.popSmallest(); // return 1, since 1 is the smallest number, and remove it from the set.\n",
    "smallestInfiniteSet.popSmallest(); // return 2, and remove it from the set.\n",
    "smallestInfiniteSet.popSmallest(); // return 3, and remove it from the set.\n",
    "smallestInfiniteSet.addBack(1);    // 1 is added back to the set.\n",
    "smallestInfiniteSet.popSmallest(); // return 1, since 1 was added back to the set and\n",
    "                                   // is the smallest number, and remove it from the set.\n",
    "smallestInfiniteSet.popSmallest(); // return 4, and remove it from the set.\n",
    "smallestInfiniteSet.popSmallest(); // return 5, and remove it from the set.\n",
    " \n",
    "\n",
    "Constraints:\n",
    "\n",
    "- 1 <= num <= 1000\n",
    "- At most 1000 calls will be made in total to popSmallest and addBack."
   ]
  },
  {
   "cell_type": "code",
   "execution_count": 1,
   "id": "abb0aa2b-6aa2-4fef-804e-04648057e55a",
   "metadata": {},
   "outputs": [],
   "source": [
    "class SmallestInfiniteSet:\n",
    "\n",
    "    def __init__(self):\n",
    "        self.exist = set()\n",
    "        self.nums = []\n",
    "        self.currInt = 1\n",
    "\n",
    "    def popSmallest(self) -> int:\n",
    "        if len(self.nums) > 0:\n",
    "            rm = heapq.heappop(self.nums)\n",
    "            self.exist.remove(rm)\n",
    "\n",
    "        else:\n",
    "            rm = self.currInt\n",
    "            self.currInt += 1\n",
    "        return rm\n",
    "\n",
    "    def addBack(self, num: int) -> None:\n",
    "        if self.currInt <= num or num in self.exist:\n",
    "            return\n",
    "        heapq.heappush(self.nums, num)\n",
    "        self.exist.add(num)\n",
    "\n",
    "# Your SmallestInfiniteSet object will be instantiated and called as such:\n",
    "# obj = SmallestInfiniteSet()\n",
    "# param_1 = obj.popSmallest()\n",
    "# obj.addBack(num)"
   ]
  },
  {
   "cell_type": "markdown",
   "id": "58938f10-f971-40d3-8fd9-8172c8f7f240",
   "metadata": {},
   "source": [
    "### 2542. Maximum Subsequence Score\n",
    "You are given two 0-indexed integer arrays nums1 and nums2 of equal length n and a positive integer k. You must choose a subsequence of indices from nums1 of length k.\n",
    "\n",
    "For chosen indices $i_0$, $i_1$, ..., ik - 1, your score is defined as:\n",
    "\n",
    "The sum of the selected elements from nums1 multiplied with the minimum of the selected elements from nums2.\n",
    "It can defined simply as: (nums1[$i_0$] + nums1[$i_1$] +...+ nums1[$i_{k-1}$]) * min(nums2[$i_0$] , nums2[$i_1$], ... ,nums2[$i_{k-1}$]).\n",
    "Return the maximum possible score.\n",
    "\n",
    "A subsequence of indices of an array is a set that can be derived from the set {0, 1, ..., n-1} by deleting some or no elements.\n",
    "\n",
    "Example 1:\n",
    "\n",
    "Input: nums1 = [1,3,3,2], nums2 = [2,1,3,4], k = 3\n",
    "Output: 12\n",
    "Explanation: \n",
    "The four possible subsequence scores are:\n",
    "- We choose the indices 0, 1, and 2 with score = (1+3+3) * min(2,1,3) = 7.\n",
    "- We choose the indices 0, 1, and 3 with score = (1+3+2) * min(2,1,4) = 6. \n",
    "- We choose the indices 0, 2, and 3 with score = (1+3+2) * min(2,3,4) = 12. \n",
    "- We choose the indices 1, 2, and 3 with score = (3+3+2) * min(1,3,4) = 8.\n",
    "Therefore, we return the max score, which is 12. \n",
    "\n",
    "Constraints:\n",
    "\n",
    "- n == nums1.length == nums2.length\n",
    "- 1 <= n <= $10^5$\n",
    "- 0 <= nums1[i], nums2[j] <= $10^5$\n",
    "- 1 <= k <= n"
   ]
  },
  {
   "cell_type": "code",
   "execution_count": null,
   "id": "be29997a-8fc6-4f7e-a1d7-6785a6d344c1",
   "metadata": {},
   "outputs": [],
   "source": []
  },
  {
   "cell_type": "code",
   "execution_count": null,
   "id": "eec77e07-5c81-4e05-8ae5-59e4642ebca1",
   "metadata": {},
   "outputs": [],
   "source": []
  }
 ],
 "metadata": {
  "kernelspec": {
   "display_name": "Python 3 (ipykernel)",
   "language": "python",
   "name": "python3"
  },
  "language_info": {
   "codemirror_mode": {
    "name": "ipython",
    "version": 3
   },
   "file_extension": ".py",
   "mimetype": "text/x-python",
   "name": "python",
   "nbconvert_exporter": "python",
   "pygments_lexer": "ipython3",
   "version": "3.11.9"
  }
 },
 "nbformat": 4,
 "nbformat_minor": 5
}
