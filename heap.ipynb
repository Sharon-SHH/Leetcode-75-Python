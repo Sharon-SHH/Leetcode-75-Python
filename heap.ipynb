{
 "cells": [
  {
   "cell_type": "markdown",
   "id": "f224bbb8-2c4d-42cd-8194-5caa3df74c17",
   "metadata": {},
   "source": [
    "### 2336. Smallest Number in Infinite Set\n",
    "You have a set which contains all positive integers [1, 2, 3, 4, 5, ...].\n",
    "\n",
    "Implement the SmallestInfiniteSet class:\n",
    "\n",
    "SmallestInfiniteSet() Initializes the SmallestInfiniteSet object to contain all positive integers.\n",
    "int popSmallest() Removes and returns the smallest integer contained in the infinite set.\n",
    "void addBack(int num) Adds a positive integer num back into the infinite set, if it is not already in the infinite set.\n",
    " \n",
    "\n",
    "Example 1:\n",
    "\n",
    "Input\n",
    "[\"SmallestInfiniteSet\", \"addBack\", \"popSmallest\", \"popSmallest\", \"popSmallest\", \"addBack\", \"popSmallest\", \"popSmallest\", \"popSmallest\"]\n",
    "[[], [2], [], [], [], [1], [], [], []]\n",
    "Output\n",
    "[null, null, 1, 2, 3, null, 1, 4, 5]\n",
    "\n",
    "Explanation\n",
    "SmallestInfiniteSet smallestInfiniteSet = new SmallestInfiniteSet();\n",
    "smallestInfiniteSet.addBack(2);    // 2 is already in the set, so no change is made.\n",
    "smallestInfiniteSet.popSmallest(); // return 1, since 1 is the smallest number, and remove it from the set.\n",
    "smallestInfiniteSet.popSmallest(); // return 2, and remove it from the set.\n",
    "smallestInfiniteSet.popSmallest(); // return 3, and remove it from the set.\n",
    "smallestInfiniteSet.addBack(1);    // 1 is added back to the set.\n",
    "smallestInfiniteSet.popSmallest(); // return 1, since 1 was added back to the set and\n",
    "                                   // is the smallest number, and remove it from the set.\n",
    "smallestInfiniteSet.popSmallest(); // return 4, and remove it from the set.\n",
    "smallestInfiniteSet.popSmallest(); // return 5, and remove it from the set.\n",
    " \n",
    "\n",
    "Constraints:\n",
    "\n",
    "- 1 <= num <= 1000\n",
    "- At most 1000 calls will be made in total to popSmallest and addBack."
   ]
  },
  {
   "cell_type": "code",
   "execution_count": 1,
   "id": "abb0aa2b-6aa2-4fef-804e-04648057e55a",
   "metadata": {},
   "outputs": [],
   "source": [
    "class SmallestInfiniteSet:\n",
    "\n",
    "    def __init__(self):\n",
    "        self.exist = set()\n",
    "        self.nums = []\n",
    "        self.currInt = 1\n",
    "\n",
    "    def popSmallest(self) -> int:\n",
    "        if len(self.nums) > 0:\n",
    "            rm = heapq.heappop(self.nums)\n",
    "            self.exist.remove(rm)\n",
    "\n",
    "        else:\n",
    "            rm = self.currInt\n",
    "            self.currInt += 1\n",
    "        return rm\n",
    "\n",
    "    def addBack(self, num: int) -> None:\n",
    "        if self.currInt <= num or num in self.exist:\n",
    "            return\n",
    "        heapq.heappush(self.nums, num)\n",
    "        self.exist.add(num)\n",
    "\n",
    "# Your SmallestInfiniteSet object will be instantiated and called as such:\n",
    "# obj = SmallestInfiniteSet()\n",
    "# param_1 = obj.popSmallest()\n",
    "# obj.addBack(num)"
   ]
  },
  {
   "cell_type": "code",
   "execution_count": null,
   "id": "eec77e07-5c81-4e05-8ae5-59e4642ebca1",
   "metadata": {},
   "outputs": [],
   "source": []
  }
 ],
 "metadata": {
  "kernelspec": {
   "display_name": "Python 3 (ipykernel)",
   "language": "python",
   "name": "python3"
  },
  "language_info": {
   "codemirror_mode": {
    "name": "ipython",
    "version": 3
   },
   "file_extension": ".py",
   "mimetype": "text/x-python",
   "name": "python",
   "nbconvert_exporter": "python",
   "pygments_lexer": "ipython3",
   "version": "3.11.5"
  }
 },
 "nbformat": 4,
 "nbformat_minor": 5
}
