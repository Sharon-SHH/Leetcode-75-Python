{
 "cells": [
  {
   "cell_type": "markdown",
   "id": "22a3bc46",
   "metadata": {},
   "source": [
    "### Algorithm: Monotonic Stack\n",
    "create a dictionary: value: greater than value\n"
   ]
  },
  {
   "cell_type": "code",
   "execution_count": 1,
   "id": "ea3631fd",
   "metadata": {},
   "outputs": [
    {
     "data": {
      "text/plain": [
       "{2: 5, 0: 7, 1: 7, 5: 7, 3: -1, 7: -1}"
      ]
     },
     "execution_count": 1,
     "metadata": {},
     "output_type": "execute_result"
    }
   ],
   "source": [
    "l = [2, 5, 1, 0, 7, 3] # all intergers are unique\n",
    "val_g = {}\n",
    "stack = []\n",
    "for i in l:\n",
    "    while len(stack) > 0 and i > stack[-1]:\n",
    "        tmp = stack.pop()\n",
    "        val_g[tmp] = i\n",
    "    stack.append(i)\n",
    "while len(stack) > 0:\n",
    "    tmp = stack.pop()\n",
    "    val_g[tmp] = -1\n",
    "val_g\n",
    "# Think about if intergers are not unique: l = [2, 3, 5, 1, 0, 7, 3] "
   ]
  },
  {
   "cell_type": "markdown",
   "id": "3157a3ef",
   "metadata": {},
   "source": [
    "## 496. Next Greater Element I (E)\n",
    "The next greater element of some element x in an array is the first greater element that is to the right of x in the same array.\n",
    "\n",
    "You are given two distinct 0-indexed integer arrays nums1 and nums2, where nums1 is a subset of nums2.\n",
    "\n",
    "For each 0 <= i < nums1.length, find the index j such that nums1[i] == nums2[j] and determine the next greater element of nums2[j] in nums2. If there is no next greater element, then the answer for this query is -1.\n",
    "\n",
    "Return an array ans of length nums1.length such that ans[i] is the next greater element as described above.\n",
    "\n",
    "Example 1:\n",
    "\n",
    "Input: nums1 = [4,1,2], nums2 = [1,3,4,2]  \n",
    "Output: [-1,3,-1]  \n",
    "Explanation: The next greater element for each value of nums1 is as follows:\n",
    "- 4 is underlined in nums2 = [1,3,4,2]. There is no next greater element, so the answer is -1.\n",
    "- 1 is underlined in nums2 = [1,3,4,2]. The next greater element is 3.\n",
    "- 2 is underlined in nums2 = [1,3,4,2]. There is no next greater element, so the answer is -1."
   ]
  },
  {
   "cell_type": "code",
   "execution_count": 2,
   "id": "9a5e0f86",
   "metadata": {},
   "outputs": [
    {
     "data": {
      "text/plain": [
       "[-1, 3, -1]"
      ]
     },
     "execution_count": 2,
     "metadata": {},
     "output_type": "execute_result"
    }
   ],
   "source": [
    "from typing import List\n",
    "class Solution:\n",
    "    def nextGreaterElement(self, nums1: List[int], nums2: List[int]) -> List[int]:\n",
    "        # create a dictionary for n2: key: next-greater-val\n",
    "        stack = []\n",
    "        val_nge = {}\n",
    "        for num in nums2:\n",
    "            while len(stack) > 0 and num > stack[-1]:\n",
    "                val_nge[stack.pop()] = num\n",
    "            stack.append(num)\n",
    "        # The elements in stack has no next greater element\n",
    "        while len(stack) > 0:\n",
    "            val_nge[stack.pop()] = -1\n",
    "        for num in nums1:\n",
    "            stack.append(val_nge[num])\n",
    "        return stack\n",
    "nums1 = [4, 1, 2]\n",
    "nums2 = [1,3,4,2]\n",
    "s = Solution()\n",
    "s.nextGreaterElement(nums1, nums2)"
   ]
  },
  {
   "cell_type": "markdown",
   "id": "ff990950",
   "metadata": {},
   "source": [
    "Time complexity: O(n).  \n",
    "Space complexity: O(n)"
   ]
  },
  {
   "cell_type": "markdown",
   "id": "d6f62840",
   "metadata": {},
   "source": [
    "## 739. Daily Temperatures\n",
    "Given an array of integers temperatures represents the daily temperatures, return an array answer such that answer[i] is the number of days you have to wait after the ith day to get a warmer temperature. If there is no future day for which this is possible, keep answer[i] == 0 instead.\n",
    "\n",
    "Example 1:  \n",
    "\n",
    "Input: temperatures = [73,74,75,71,69,72,76,73]  \n",
    "Output: [1,1,4,2,1,1,0,0]  \n",
    "\n",
    "Constraints:\n",
    "\n",
    "- 1 <= temperatures.length <= $10^5$\n",
    "- 30 <= temperatures[i] <= 100"
   ]
  },
  {
   "cell_type": "code",
   "execution_count": 3,
   "id": "cb1961fc",
   "metadata": {},
   "outputs": [
    {
     "data": {
      "text/plain": [
       "[1, 1, 4, 2, 1, 1, 0, 0]"
      ]
     },
     "execution_count": 3,
     "metadata": {},
     "output_type": "execute_result"
    }
   ],
   "source": [
    "class Solution:\n",
    "    def dailyTemperatures(self, temperatures: List[int]) -> List[int]:\n",
    "        # create a stack: (val, idx)\n",
    "        # res: save greater_idx - curr_idx\n",
    "        n = len(temperatures)\n",
    "        res = [0] * n\n",
    "        stack = []\n",
    "        for curr_i, curr_temp in enumerate(temperatures):\n",
    "            while len(stack) > 0 and curr_temp > stack[-1][0]:\n",
    "                prev = stack.pop()\n",
    "                res[prev[1]] = curr_i - prev[1]\n",
    "            stack.append((curr_temp, curr_i))\n",
    "        # Even stack is not empty, the initial values in res are 0s.\n",
    "        return res\n",
    "temperatures = [73,74,75,71,69,72,76,73]\n",
    "s = Solution()\n",
    "s.dailyTemperatures(temperatures)"
   ]
  },
  {
   "cell_type": "markdown",
   "id": "15321dcd",
   "metadata": {},
   "source": [
    "Time complexity: O(n)  \n",
    "Space complexity: O(n)"
   ]
  },
  {
   "cell_type": "markdown",
   "id": "cfb10917",
   "metadata": {},
   "source": [
    "## 901. Online Stock Span\n",
    "Design an algorithm that collects daily price quotes for some stock and returns the span of that stock's price for the current day.\n",
    "\n",
    "The span of the stock's price in one day is the maximum number of consecutive days (starting from that day and going backward) for which the stock price was less than or equal to the price of that day.\n",
    "\n",
    "For example, if the prices of the stock in the last four days is [7,2,1,2] and the price of the stock today is 2, then the span of today is 4 because starting from today, the price of the stock was less than or equal 2 for 4 consecutive days.\n",
    "Also, if the prices of the stock in the last four days is [7,34,1,2] and the price of the stock today is 8, then the span of today is 3 because starting from today, the price of the stock was less than or equal 8 for 3 consecutive days.\n",
    "Implement the StockSpanner class:\n",
    "\n",
    "StockSpanner() Initializes the object of the class.\n",
    "int next(int price) Returns the span of the stock's price given that today's price is price.\n",
    " \n",
    "\n",
    "Example 1:\n",
    "\n",
    "Input\n",
    "[\"StockSpanner\", \"next\", \"next\", \"next\", \"next\", \"next\", \"next\", \"next\"]  \n",
    "[[], [100], [80], [60], [70], [60], [75], [85]]  \n",
    "Output\n",
    "[null, 1, 1, 1, 2, 1, 4, 6]\n",
    "\n",
    "Explanation  \n",
    "StockSpanner stockSpanner = new StockSpanner();  \n",
    "stockSpanner.next(100); // return 1  \n",
    "stockSpanner.next(80);  // return 1  \n",
    "stockSpanner.next(60);  // return 1  \n",
    "stockSpanner.next(70);  // return 2  \n",
    "stockSpanner.next(60);  // return 1  \n",
    "stockSpanner.next(75);  // return 4, because the last 4 prices (including today's price of 75) were less than or equal to today's price.  \n",
    "stockSpanner.next(85);  // return 6\n",
    " \n",
    "\n",
    "Constraints:\n",
    "\n",
    "- 1 <= price <= $10^5$\n",
    "- At most 104 calls will be made to next."
   ]
  },
  {
   "cell_type": "code",
   "execution_count": 4,
   "id": "3aac9628",
   "metadata": {},
   "outputs": [
    {
     "name": "stdout",
     "output_type": "stream",
     "text": [
      "1 1 1 2 1 4 6\n"
     ]
    }
   ],
   "source": [
    "# class StockSpanner:\n",
    "#    def __init__(self):\n",
    "#    def next(self, price: int) -> int:\n",
    "class StockSpanner_idea:\n",
    "    def __init__(self):\n",
    "        self.stack = []\n",
    "        self.val_span = {}\n",
    "\n",
    "    def next(self, price: int) -> int:\n",
    "        curr_span = 1\n",
    "        while len(self.stack) > 0 and price >= self.stack[-1]:\n",
    "            curr_span += self.val_span[self.stack.pop()]\n",
    "        self.stack.append(price)\n",
    "        self.val_span[price] = curr_span\n",
    "        return self.val_span[price]\n",
    "    \n",
    "class StockSpanner:\n",
    "\n",
    "    def __init__(self):\n",
    "        self.stack = [] # (price, span)\n",
    "\n",
    "    def next(self, price: int) -> int:\n",
    "        curr_span = 1\n",
    "        while len(self.stack) > 0 and price >= self.stack[-1][0]:\n",
    "            curr_span += self.stack.pop()[1]\n",
    "        self.stack.append((price, curr_span))\n",
    "        return curr_span\n",
    "s = StockSpanner()\n",
    "print(s.next(100), s.next(80), s.next(60), s.next(70),\\\n",
    "      s.next(60), s.next(75), s.next(80))"
   ]
  },
  {
   "cell_type": "markdown",
   "id": "a7fa60ac",
   "metadata": {},
   "source": [
    "Time complexity of each call to `next`: O(1)  \n",
    "Even though there is a while loop in next, that while loop can only run`n` times total across the entire algorithm. Each element can only be popped off the stack once, and there are up to nnn elements.\n",
    "\n",
    "This is called **amortized analysis** - if you average out the time it takes for next to run across nnn calls, it works out to be O(1).   \n",
    "Space complexity: O(n)"
   ]
  },
  {
   "cell_type": "code",
   "execution_count": null,
   "id": "6c6604a8",
   "metadata": {},
   "outputs": [],
   "source": []
  }
 ],
 "metadata": {
  "kernelspec": {
   "display_name": "Python 3 (ipykernel)",
   "language": "python",
   "name": "python3"
  },
  "language_info": {
   "codemirror_mode": {
    "name": "ipython",
    "version": 3
   },
   "file_extension": ".py",
   "mimetype": "text/x-python",
   "name": "python",
   "nbconvert_exporter": "python",
   "pygments_lexer": "ipython3",
   "version": "3.11.5"
  }
 },
 "nbformat": 4,
 "nbformat_minor": 5
}
