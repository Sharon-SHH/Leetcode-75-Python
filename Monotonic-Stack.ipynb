{
 "cells": [
  {
   "cell_type": "markdown",
   "id": "685ef24f",
   "metadata": {},
   "source": [
    "## 739. Daily Temperatures\n",
    "Given an array of integers temperatures represents the daily temperatures, return an array answer such that answer[i] is the number of days you have to wait after the ith day to get a warmer temperature. If there is no future day for which this is possible, keep answer[i] == 0 instead.\n",
    "\n",
    "Example 1:  \n",
    "\n",
    "Input: temperatures = [73,74,75,71,69,72,76,73]  \n",
    "Output: [1,1,4,2,1,1,0,0]  \n",
    "\n",
    "Constraints:\n",
    "\n",
    "- 1 <= temperatures.length <= $10^5$\n",
    "- 30 <= temperatures[i] <= 100"
   ]
  },
  {
   "cell_type": "markdown",
   "id": "c01c7a46",
   "metadata": {},
   "source": [
    "### Algorithm: Monotonic Stack\n",
    "create a dictionary: value: greater than value\n"
   ]
  },
  {
   "cell_type": "markdown",
   "id": "fa7a54a4",
   "metadata": {},
   "source": [
    "l = [2, 3, 5, 1, 0, 7, 3]\n",
    "val_g = {}\n",
    "stack = []\n",
    "for i in l:\n",
    "    while len(stack) > 0 and i > stack[-1]:\n",
    "        tmp = stack.pop()\n",
    "        val_g[tmp] = i\n",
    "    stack.append(i)\n",
    "while len(stack) > 0:\n",
    "    tmp = stack.pop()\n",
    "    val_g[tmp] = -1\n",
    "val_g\n",
    "        "
   ]
  }
 ],
 "metadata": {
  "kernelspec": {
   "display_name": "Python 3 (ipykernel)",
   "language": "python",
   "name": "python3"
  },
  "language_info": {
   "codemirror_mode": {
    "name": "ipython",
    "version": 3
   },
   "file_extension": ".py",
   "mimetype": "text/x-python",
   "name": "python",
   "nbconvert_exporter": "python",
   "pygments_lexer": "ipython3",
   "version": "3.11.5"
  }
 },
 "nbformat": 4,
 "nbformat_minor": 5
}
