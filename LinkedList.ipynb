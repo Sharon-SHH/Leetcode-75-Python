{
 "cells": [
  {
   "cell_type": "code",
   "execution_count": 1,
   "id": "cf72bb31-1260-4c39-95c4-05c7a29c9e99",
   "metadata": {},
   "outputs": [],
   "source": [
    "from typing import Optional\n",
    "class ListNode:\n",
    "    def __init__(self, val):\n",
    "        self.val = val\n",
    "        self.next = None\n",
    "\n",
    "class LinkedList:\n",
    "    def __init__(self): # There is a head Node before inserting nodes\n",
    "        self.head = ListNode(None)\n",
    "        \n",
    "    def createLinkedList(self, arr):\n",
    "        print(\"Create Linkedlist:\")\n",
    "        node = self.head\n",
    "        for item in arr:\n",
    "            curr = ListNode(item)\n",
    "            node.next = curr\n",
    "            node = curr\n",
    "        self.traverseList()\n",
    "        \n",
    "    def traverseList(self):\n",
    "        node = self.head.next\n",
    "        while node:\n",
    "            print(node.val)\n",
    "            node = node.next\n",
    "    \n",
    "    def reverseList(self):\n",
    "        print(\"reverse:\")\n",
    "        prev = None\n",
    "        curr = self.head.next\n",
    "        while curr:\n",
    "            tmpNode = curr.next\n",
    "            curr.next = prev\n",
    "            prev = curr\n",
    "            curr = tmpNode\n",
    "        # prev is the new head\n",
    "        self.head.next = prev\n",
    "        self.traverseList()\n",
    "            \n",
    "    def oddEvenList(self):\n",
    "        head = self.head.next\n",
    "        if not head or not head.next:\n",
    "            return head\n",
    "        odd = head\n",
    "        even_head = ListNode(None)\n",
    "        tail = even_head\n",
    "        while odd and odd.next:\n",
    "            fast = odd.next\n",
    "            odd.next = fast.next\n",
    "            if odd.next:\n",
    "                odd = odd.next  # original\n",
    "            tail.next = fast # even linkedlist\n",
    "            fast.next = None\n",
    "            tail = fast\n",
    "        odd.next = even_head.next\n",
    "        self.traverseList()\n",
    "        \n",
    "    def oddEvenList_Opt(self):\n",
    "        head = self.head.next\n",
    "        if not head or not head.next:\n",
    "            return head\n",
    "        odd = head\n",
    "        even_head = head.next\n",
    "        even = head.next\n",
    "        while even and even.next:\n",
    "            odd.next = even.next\n",
    "            odd = odd.next\n",
    "            even.next = odd.next\n",
    "            even = even.next \n",
    "        odd.next = even_head\n",
    "        self.traverseList()\n",
    "    def deleteMiddle(self):\n",
    "        head = self.head.next\n",
    "        if not head.next: \n",
    "            return None\n",
    "        #=================Slow will point to the middle node ===========\n",
    "        slow = fast = head  \n",
    "        while fast and fast.next:\n",
    "            slow = slow.next\n",
    "            fast = fast.next.next\n",
    "        #=============================\n",
    "        # slow is the middle node\n",
    "        node = head\n",
    "        while node and node.next and node.next != slow:\n",
    "            node = node.next\n",
    "        # remove slow\n",
    "        node.next = slow.next\n",
    "        slow.next = None\n",
    "        self.traverseList()\n",
    "    def deleteMiddle_Opt(self):\n",
    "        head = self.head.next\n",
    "        if not head.next: \n",
    "            return None\n",
    "        #========= slow will point to the node before the middle node=======\n",
    "        slow = head\n",
    "        fast = head.next.next\n",
    "        while fast and fast.next:\n",
    "            slow = slow.next\n",
    "            fast = fast.next.next\n",
    "        #================================\n",
    "        slow.next = slow.next.next\n",
    "        self.traverseList()\n",
    "    def pairSum(self) -> int:\n",
    "        head = self.head.next\n",
    "        # find middle node, reverse the second half\n",
    "        slow = fast = head\n",
    "        max_ = 0\n",
    "        while fast and fast.next:\n",
    "            slow = slow.next\n",
    "            fast = fast.next.next\n",
    "        prev = None\n",
    "        while slow:\n",
    "            tmp = slow.next\n",
    "            slow.next = prev\n",
    "            prev = slow\n",
    "            slow = tmp\n",
    "        while prev:\n",
    "            max_ = max(max_, head.val + prev.val)\n",
    "            head = head.next\n",
    "            prev = prev.next\n",
    "        return max_"
   ]
  },
  {
   "cell_type": "code",
   "execution_count": 2,
   "id": "af87b4c0-8c54-4c80-b9fc-9c89d5b0f8c3",
   "metadata": {},
   "outputs": [
    {
     "name": "stdout",
     "output_type": "stream",
     "text": [
      "Create Linkedlist:\n",
      "2\n",
      "3\n",
      "4\n",
      "7\n",
      "9\n"
     ]
    }
   ],
   "source": [
    "arr = [2, 3, 4, 7, 9]\n",
    "ls = LinkedList()\n",
    "ls.createLinkedList(arr)"
   ]
  },
  {
   "cell_type": "code",
   "execution_count": 3,
   "id": "3cbfcfff-f5e4-4a84-8f1c-d40fa063fae3",
   "metadata": {},
   "outputs": [
    {
     "name": "stdout",
     "output_type": "stream",
     "text": [
      "reverse:\n",
      "9\n",
      "7\n",
      "4\n",
      "3\n",
      "2\n"
     ]
    }
   ],
   "source": [
    "ls.reverseList()"
   ]
  },
  {
   "cell_type": "markdown",
   "id": "f9a915ef-62f1-4197-98e5-f93e904f1e8e",
   "metadata": {},
   "source": [
    "### 328. Odd Even Linked List\n",
    "\n",
    "Given the head of a singly linked list, group all the nodes with odd indices together followed by the nodes with even indices, and return the reordered list.\n",
    "\n",
    "The first node is considered odd, and the second node is even, and so on.\n",
    "\n",
    "Note that the relative order inside both the even and odd groups should remain as it was in the input.\n",
    "\n",
    "You must solve the problem in O(1) extra space complexity and O(n) time complexity."
   ]
  },
  {
   "cell_type": "code",
   "execution_count": 4,
   "id": "0c88ff61-7b1d-4528-a9a6-19a1113bc4f1",
   "metadata": {},
   "outputs": [
    {
     "name": "stdout",
     "output_type": "stream",
     "text": [
      "9\n",
      "4\n",
      "2\n",
      "7\n",
      "3\n"
     ]
    }
   ],
   "source": [
    "ls.oddEvenList()"
   ]
  },
  {
   "cell_type": "code",
   "execution_count": 5,
   "id": "40119fdc-e389-4845-a6fe-047f21aaf881",
   "metadata": {},
   "outputs": [
    {
     "name": "stdout",
     "output_type": "stream",
     "text": [
      "9\n",
      "2\n",
      "3\n",
      "4\n",
      "7\n"
     ]
    }
   ],
   "source": [
    "ls.oddEvenList_Opt()"
   ]
  },
  {
   "cell_type": "markdown",
   "id": "fcf3b862-555f-40d7-8fcc-7ae878d83c26",
   "metadata": {},
   "source": [
    "### 2095. Delete the Middle Node of a Linked List\n",
    "You are given the head of a linked list. Delete the middle node, and return the head of the modified linked list.\n",
    "\n",
    "The middle node of a linked list of size n is the ⌊n / 2⌋th node from the start using 0-based indexing, where ⌊x⌋ denotes the largest integer less than or equal to x.\n",
    "\n",
    "For n = 1, 2, 3, 4, and 5, the middle nodes are 0, 1, 1, 2, and 2, respectively.\n",
    "\n",
    "**Example:**  \n",
    "Input: head = [1,3,4,7,1,2,6]  \n",
    "Output: [1,3,4,1,2,6]  \n",
    "Explanation:  \n",
    "The above figure represents the given linked list. The indices of the nodes are written below.  \n",
    "Since n = 7, node 3 with value 7 is the middle node, which is marked in red.\n",
    "We return the new list after removing this node.   \n",
    "\n",
    "Constraints:\n",
    "\n",
    "- The number of nodes in the list is in the range [1, 10^5].  \n",
    "- 1 <= Node.val <= 10^5  "
   ]
  },
  {
   "cell_type": "code",
   "execution_count": 6,
   "id": "a050adeb-d3b4-4c8d-a5b4-d64944f750f8",
   "metadata": {},
   "outputs": [
    {
     "name": "stdout",
     "output_type": "stream",
     "text": [
      "9\n",
      "2\n",
      "4\n",
      "7\n"
     ]
    }
   ],
   "source": [
    "ls.deleteMiddle()"
   ]
  },
  {
   "cell_type": "code",
   "execution_count": 7,
   "id": "1b4220c8-7bc4-49e1-b54a-b11e3bfa1b21",
   "metadata": {},
   "outputs": [
    {
     "name": "stdout",
     "output_type": "stream",
     "text": [
      "9\n",
      "2\n",
      "7\n"
     ]
    }
   ],
   "source": [
    "ls.deleteMiddle_Opt()"
   ]
  },
  {
   "cell_type": "markdown",
   "id": "38dab12a-5d64-4807-aff2-5f639b50aff8",
   "metadata": {},
   "source": [
    "### 2130. Maximum Twin Sum of a Linked List\n",
    "In a linked list of size n, where n is even, the ith node (0-indexed) of the linked list is known as the twin of the (n-1-i)th node, if 0 <= i <= (n / 2) - 1.\n",
    "\n",
    "For example, if n = 4, then node 0 is the twin of node 3, and node 1 is the twin of node 2. These are the only nodes with twins for n = 4.\n",
    "The twin sum is defined as the sum of a node and its twin.\n",
    "\n",
    "Given the head of a linked list with even length, return the maximum twin sum of the linked list.\n",
    "\n",
    "Example 1:  \n",
    "Input: head = [5,4,2,1]  \n",
    "Output: 6  \n",
    "Explanation:  \n",
    "Nodes 0 and 1 are the twins of nodes 3 and 2, respectively. All have twin sum = 6.  \n",
    "There are no other nodes with twins in the linked list.  \n",
    "Thus, the maximum twin sum of the linked list is 6.   \n",
    "\n",
    "Example:  \n",
    "Input: head = [1,100000]  \n",
    "Output: 100001  \n",
    "Explanation:  \n",
    "There is only one node with a twin in the linked list having twin sum of 1 + 100000 = 100001.  \n",
    " \n",
    "\n",
    "Constraints:  \n",
    "- The number of nodes in the list is an even integer in the range [2, 105].  \n",
    "- 1 <= Node.val <= 105"
   ]
  },
  {
   "cell_type": "code",
   "execution_count": 8,
   "id": "483088d0-6732-4ff4-8a09-ee6afa44c4a7",
   "metadata": {},
   "outputs": [
    {
     "name": "stdout",
     "output_type": "stream",
     "text": [
      "Create Linkedlist:\n",
      "4\n",
      "2\n",
      "2\n",
      "3\n"
     ]
    }
   ],
   "source": [
    "arr = [4,2,2,3]\n",
    "pairList = LinkedList()\n",
    "pairList.createLinkedList(arr)"
   ]
  },
  {
   "cell_type": "code",
   "execution_count": 9,
   "id": "fa0552f1-f398-4c4b-8f88-c1056e08ac17",
   "metadata": {},
   "outputs": [
    {
     "data": {
      "text/plain": [
       "7"
      ]
     },
     "execution_count": 9,
     "metadata": {},
     "output_type": "execute_result"
    }
   ],
   "source": [
    "pairList.pairSum()"
   ]
  }
 ],
 "metadata": {
  "kernelspec": {
   "display_name": "Python 3 (ipykernel)",
   "language": "python",
   "name": "python3"
  },
  "language_info": {
   "codemirror_mode": {
    "name": "ipython",
    "version": 3
   },
   "file_extension": ".py",
   "mimetype": "text/x-python",
   "name": "python",
   "nbconvert_exporter": "python",
   "pygments_lexer": "ipython3",
   "version": "3.11.5"
  }
 },
 "nbformat": 4,
 "nbformat_minor": 5
}
