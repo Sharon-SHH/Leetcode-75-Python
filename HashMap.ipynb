{
 "cells": [
  {
   "cell_type": "markdown",
   "id": "8106cc64-5339-4ecb-99fb-8cf8c3875e03",
   "metadata": {},
   "source": [
    "### 2215. Find the Difference of Two Arrays  (E)\n",
    "Given two 0-indexed integer arrays nums1 and nums2, return a list answer of size 2 where:  \n",
    "\n",
    "answer[0] is a list of all distinct integers in nums1 which are not present in nums2.  \n",
    "answer[1] is a list of all distinct integers in nums2 which are not present in nums1.  \n",
    "Note that the integers in the lists may be returned in any order.  \n",
    "\n",
    " \n",
    "\n",
    "Example 1:  \n",
    "\n",
    "Input: nums1 = [1,2,3], nums2 = [2,4,6]  \n",
    "Output: [[1,3],[4,6]]  \n",
    "Explanation:  \n",
    "For nums1, nums1[1] = 2 is present at index 0 of nums2, whereas nums1[0] = 1 and nums1[2] = 3 are not present in nums2. Therefore, answer[0] = [1,3].  \n",
    "For nums2, nums2[0] = 2 is present at index 1 of nums1, whereas nums2[1] = 4 and nums2[2] = 6 are not present in nums2. Therefore, answer[1] = [4,6].  "
   ]
  },
  {
   "cell_type": "code",
   "execution_count": 4,
   "id": "8108ce28-7bcb-4986-ad04-023147d64e88",
   "metadata": {},
   "outputs": [],
   "source": [
    "from typing import List \n",
    "class Solution:\n",
    "    def findDifference(self, nums1: List[int], nums2: List[int]) -> List[List[int]]:\n",
    "        set1 = set(nums1)\n",
    "        set2 = set(nums2)\n",
    "        res = []\n",
    "        res.append(list(set1-set2))\n",
    "        res.append(list(set2-set1))\n",
    "        return res"
   ]
  },
  {
   "cell_type": "markdown",
   "id": "6354e0ba-46d5-4d5b-a4e8-c321e8c35c73",
   "metadata": {},
   "source": [
    "### Time complexity  \n",
    "Computing the symmetric difference between two sets using the - operator has a time complexity of O(min(len(set1), len(set2)))\n",
    "\n",
    "The average time complexity of computing the intersection of two sets O(min(len(s),len(t))) arises from the fact that the Python implementation of set intersection uses a hashing-based approach.\n",
    "\n",
    "Here's why this is the case:\n",
    "\n",
    "Hash-based Lookup: Python sets are implemented using hash tables, which provide \n",
    "O(1) average time complexity for lookup operations. When we iterate over the elements of one set and check for their presence in the other set, each lookup operation takes O(1) on average."
   ]
  },
  {
   "cell_type": "code",
   "execution_count": 3,
   "id": "66238adb-1ffc-4733-91a5-c988ce3f44a2",
   "metadata": {},
   "outputs": [],
   "source": [
    "from collections import Counter\n",
    "class Solution:\n",
    "    def findDifference(self, nums1: List[int], nums2: List[int]) -> List[List[int]]:\n",
    "        count1 = dict(Counter(nums1))\n",
    "        count2 = dict(Counter(nums2))\n",
    "        for key in list(count1.keys()):\n",
    "            if key in count2:\n",
    "                del count1[key]\n",
    "                del count2[key]\n",
    "        return [list(count1.keys()), list(count2.keys())]"
   ]
  },
  {
   "cell_type": "markdown",
   "id": "3de97002-ebaf-4670-8de1-9efbdc231205",
   "metadata": {},
   "source": [
    "### 1207. Unique Number of Occurrences (E)  \n",
    "Given an array of integers arr, return true if the number of occurrences of each value in the array is unique or false otherwise.  \n",
    "Example 3:  \n",
    "\n",
    "Input: arr = [-3,0,1,-3,1,1,1,-3,10,0]  \n",
    "Output: true  \n",
    " \n",
    "\n",
    "Constraints:  \n",
    "  \n",
    "1 <= arr.length <= 1000  \n",
    "-1000 <= arr[i] <= 1000  "
   ]
  },
  {
   "cell_type": "code",
   "execution_count": 10,
   "id": "29dfb8ec-ed52-4e36-871a-c8d9b78261b5",
   "metadata": {},
   "outputs": [],
   "source": [
    "class Solution:\n",
    "    def uniqueOccurrences(self, arr: List[int]) -> bool:\n",
    "        count = Counter(arr)\n",
    "        count = sorted(count.items(), key=lambda x: x[1])\n",
    "        prev = 0\n",
    "        for v,o in count:\n",
    "            if o == prev:\n",
    "                return False\n",
    "            prev = o\n",
    "        return True"
   ]
  },
  {
   "cell_type": "markdown",
   "id": "6389aab7-4f3c-41c2-a5d2-4bb657361af5",
   "metadata": {},
   "source": [
    "Time Complexity:\n",
    "N: the size of array `arr`, K=1000  \n",
    "\n",
    "Iterate over the array: O(N)  \n",
    "Sort the array `freq`: O(2Klog2K)  \n",
    "Check duplicate values: O(2K)  \n",
    "Total: O(N+KlogK) \n",
    "\n",
    "Space Complexity: O(K)  \n",
    "The frequency array of size **2K** to store the frequence "
   ]
  },
  {
   "cell_type": "code",
   "execution_count": 11,
   "id": "a8af4680-831f-4880-9061-728f50dd81c0",
   "metadata": {},
   "outputs": [],
   "source": [
    "class Solution:\n",
    "    def uniqueOccurrences(self, arr: List[int]) -> bool:\n",
    "        count = Counter(arr)\n",
    "        unique = set()\n",
    "        for v,o in count.items():\n",
    "            if o in unique:\n",
    "                return False\n",
    "            unique.add(o)\n",
    "        return True"
   ]
  },
  {
   "cell_type": "markdown",
   "id": "88d28657-e24e-4ad5-b03a-77e5abf39ff3",
   "metadata": {},
   "source": [
    "#### Algorithm: use a set to remember frequence\n",
    "Time complexity: O(N)\n",
    "Space complexity: O(N)"
   ]
  },
  {
   "cell_type": "markdown",
   "id": "d677f152-ace9-45be-9b69-a54a7f41688c",
   "metadata": {},
   "source": [
    "### 1657. Determine if Two Strings Are Close  \n",
    "Two strings are considered close if you can attain one from the other using the following operations:  \n",
    "\n",
    "Operation 1: Swap any two existing characters.  \n",
    "For example, abcde -> aecdb  \n",
    "Operation 2: Transform every occurrence of one existing character into another existing character, and do the same with the other character.  \n",
    "For example, aacabb -> bbcbaa (all a's turn into b's, and all b's turn into a's)\n",
    "You can use the operations on either string as many times as necessary.  \n",
    "\n",
    "Given two strings, word1 and word2, return true if word1 and word2 are close, and false otherwise.  \n",
    "\n",
    "Example 1:  \n",
    "\n",
    "Input: word1 = \"cabbba\", word2 = \"abbccc\"  \n",
    "Output: true  \n",
    "Explanation: You can attain word2 from word1 in 3 operations.  \n",
    "Apply Operation 1: \"cabbba\" -> \"caabbb\"  \n",
    "Apply Operation 2: \"caabbb\" -> \"baaccc\"  \n",
    "Apply Operation 2: \"baaccc\" -> \"abbccc\"  \n",
    " \n",
    "\n",
    "Constraints:  \n",
    "\n",
    "1 <= word1.length, word2.length <= 105  \n",
    "word1 and word2 contain only lowercase English letters"
   ]
  },
  {
   "cell_type": "code",
   "execution_count": 12,
   "id": "7b29bfcc-ea90-4931-b20e-14edae6d5177",
   "metadata": {},
   "outputs": [],
   "source": [
    "class Solution:\n",
    "    def closeStrings(self, word1: str, word2: str) -> bool:\n",
    "        if len(word1) != len(word2):\n",
    "            return False\n",
    "        count1 = Counter(word1)  # key_value: letter:frequence\n",
    "        count2 = Counter(word2)\n",
    "        if set(count1.keys()) != set(count2.keys()):\n",
    "            return False\n",
    "        count1 = sorted(count1.items(), key=lambda x:x[1])\n",
    "        count2 = sorted(count2.items(), key=lambda x:x[1])\n",
    "        for i in range(len(count1)):\n",
    "            if count1[i][1] != count2[i][1]:\n",
    "                return False\n",
    "        return True"
   ]
  },
  {
   "cell_type": "markdown",
   "id": "71797ec2-569e-4bdc-9a3f-6f4911ed0237",
   "metadata": {},
   "source": [
    "#### Algorithm:\n",
    "1. length should be equal\n",
    "2. the letters in word1 should also appear in word2, and vice versa.\n",
    "3. the occurrence of letters in word1 should be consistant in word2\n",
    "\n",
    "Time complexity: N: length of word; K=26\n",
    "sort the frequence of character keys: 26log26\n",
    "Total time complexity: O(N)\n",
    "\n",
    "Space complexity: O(1). As the maximum size of each hashmap would be 26, we are using constant extra space."
   ]
  },
  {
   "cell_type": "code",
   "execution_count": 17,
   "id": "3bae163c-1c73-4307-bf3d-62d0d1bbabcd",
   "metadata": {},
   "outputs": [],
   "source": [
    "class Solution:\n",
    "    def closeStrings(self, word1: str, word2: str) -> bool:\n",
    "        if len(word1) != len(word2):\n",
    "            return False\n",
    "        arr1 = [0]*26\n",
    "        arr2 = [0]*26\n",
    "        for word in word1:\n",
    "            arr1[ord(word) - ord('a')] += 1\n",
    "        for word in word2:\n",
    "            arr2[ord(word) - ord('a')] += 1\n",
    "        for i in range(26):\n",
    "            if arr1[i] == 0 and arr2[i] != 0 or \\\n",
    "            arr1[i] != 0 and arr2[i] == 0:\n",
    "               return False\n",
    "        arr1.sort()\n",
    "        arr2.sort()\n",
    "        for i in range(26):\n",
    "            if arr1[i] != arr2[i]:\n",
    "                return False\n",
    "        return True"
   ]
  },
  {
   "cell_type": "markdown",
   "id": "a593d88d-5bef-4237-a480-0977f0232301",
   "metadata": {},
   "source": [
    "#### Algorithm:\n",
    "Build arrays of size 26 to store the frequencies of each character (a-z)\n",
    "\n",
    "Time Complexity: O(N)  \n",
    "Space complexity: O(1)"
   ]
  },
  {
   "cell_type": "markdown",
   "id": "d21d7e1f-c21f-4c1e-9b70-236bbe036d01",
   "metadata": {},
   "source": [
    "### 2352. Equal Row and Column Pairs\n",
    "Given a 0-indexed n x n integer matrix *grid*, return the number of pairs ($r_i$, $c_j$) such that row $r_i$ and column $c_j$ are equal.\n",
    "\n",
    "A row and column pair is considered equal if they contain the same elements in the same order (i.e., an equal array).\n",
    "\n",
    "Example 1:  \n",
    "3 2 1  \n",
    "1 7 6  \n",
    "2 7 7\n",
    "\n",
    "Input: grid = [[3,2,1],[1,7,6],[2,7,7]]\n",
    "Output: 1\n",
    "Explanation: There is 1 equal row and column pair:\n",
    "- (Row 2, Column 1): [2,7,7]"
   ]
  },
  {
   "cell_type": "code",
   "execution_count": 19,
   "id": "e6e1dcab-7f01-46a9-9a37-5d01c027c0d7",
   "metadata": {},
   "outputs": [],
   "source": [
    "class Solution:\n",
    "    def equalPairs(self, grid: List[List[int]]) -> int:\n",
    "        n = len(grid)\n",
    "        res = 0\n",
    "        def isEqual(r, c): \n",
    "            # check if values one row and one col are equal\n",
    "            for i in range(n):\n",
    "                if grid[r][i] != grid[i][c]:\n",
    "                    return False\n",
    "            return True\n",
    "        for i in range(n):\n",
    "            for j in range(n):\n",
    "                if grid[i][0] == grid[0][j]:\n",
    "                    res += int(isEqual(i, j))\n",
    "        return res"
   ]
  },
  {
   "cell_type": "code",
   "execution_count": 31,
   "id": "bfbbbbe6-bd49-4a82-9524-a74596d9cfb1",
   "metadata": {},
   "outputs": [],
   "source": [
    "class Solution:\n",
    "    def equalPairs(self, grid: List[List[int]]) -> int:\n",
    "        n = len(grid)\n",
    "        res = 0\n",
    "        \n",
    "        row_c = Counter([tuple(row) for row in grid])\n",
    "\n",
    "        for c in range(n):\n",
    "            tmp = tuple(grid[i][c] for i in range(n))\n",
    "            res += row_c[tmp]\n",
    "        return res"
   ]
  },
  {
   "cell_type": "markdown",
   "id": "5f8528cd-3e96-4ea6-9afd-e5ba522d37e7",
   "metadata": {},
   "source": [
    "### Algorithm:\n",
    "1. Use tuple as key and count its frequencies: row_counter\n",
    "2. Convert each column as tuple, check if it exist in row_counter\n",
    "\n",
    "Time complexity:O($n^2$)  \n",
    "check column and convert it to each item in the column \n",
    "\n",
    "Space complexity:O($n^2$)   \n",
    "\n",
    "#### Algorithm: Tier"
   ]
  },
  {
   "cell_type": "markdown",
   "id": "8c2e9fca-3cc4-4be1-b212-dd7f8646907f",
   "metadata": {},
   "source": [
    "### Counter, sorted, Tuple"
   ]
  },
  {
   "cell_type": "code",
   "execution_count": 28,
   "id": "c01ee174-981b-42f4-83e6-8e94f7861002",
   "metadata": {},
   "outputs": [
    {
     "data": {
      "text/plain": [
       "Counter({(2, 4, 2, 2): 2, (3, 1, 2, 2): 1, (1, 4, 4, 5): 1})"
      ]
     },
     "execution_count": 28,
     "metadata": {},
     "output_type": "execute_result"
    }
   ],
   "source": [
    "grid = [[3,1,2,2],[1,4,4,5],[2,4,2,2],[2,4,2,2]]\n",
    "count = Counter(tuple(row) for row in grid)\n",
    "count"
   ]
  },
  {
   "cell_type": "code",
   "execution_count": 30,
   "id": "a8a95a67-d1a9-424c-85f7-5f06857d549a",
   "metadata": {},
   "outputs": [
    {
     "name": "stdout",
     "output_type": "stream",
     "text": [
      "(3, 1, 2, 2)\n",
      "(1, 4, 4, 4)\n",
      "(2, 4, 2, 2)\n",
      "(2, 5, 2, 2)\n"
     ]
    },
    {
     "data": {
      "text/plain": [
       "3"
      ]
     },
     "execution_count": 30,
     "metadata": {},
     "output_type": "execute_result"
    }
   ],
   "source": [
    "n = 4\n",
    "num = 0\n",
    "for c in range(n):\n",
    "    col = [grid[i][c] for i in range(n)]\n",
    "    print(tuple(col))\n",
    "    num += count[tuple(col)]\n",
    "num"
   ]
  },
  {
   "cell_type": "code",
   "execution_count": 5,
   "id": "a562bf49-d757-493a-a9e5-2207dabcce6d",
   "metadata": {},
   "outputs": [
    {
     "data": {
      "text/plain": [
       "Counter({1: 3, 2: 2, 3: 1})"
      ]
     },
     "execution_count": 5,
     "metadata": {},
     "output_type": "execute_result"
    }
   ],
   "source": [
    "a=[1,2,2,1,1,3]\n",
    "Counter(a)"
   ]
  },
  {
   "cell_type": "code",
   "execution_count": 8,
   "id": "b080729f-d410-46d4-aa9d-bb2ac6a0590e",
   "metadata": {},
   "outputs": [
    {
     "data": {
      "text/plain": [
       "[(3, 1), (2, 2), (1, 3)]"
      ]
     },
     "execution_count": 8,
     "metadata": {},
     "output_type": "execute_result"
    }
   ],
   "source": [
    "count = Counter(a)\n",
    "sort_count = sorted(count.items(), key=lambda x:x[1])\n",
    "sort_count"
   ]
  },
  {
   "cell_type": "code",
   "execution_count": 9,
   "id": "2826995b-4967-467e-befc-a524de187dd7",
   "metadata": {},
   "outputs": [
    {
     "name": "stdout",
     "output_type": "stream",
     "text": [
      "1\n",
      "2\n",
      "3\n"
     ]
    }
   ],
   "source": [
    "for v,o in sort_count:\n",
    "    print(o)"
   ]
  }
 ],
 "metadata": {
  "kernelspec": {
   "display_name": "Python 3 (ipykernel)",
   "language": "python",
   "name": "python3"
  },
  "language_info": {
   "codemirror_mode": {
    "name": "ipython",
    "version": 3
   },
   "file_extension": ".py",
   "mimetype": "text/x-python",
   "name": "python",
   "nbconvert_exporter": "python",
   "pygments_lexer": "ipython3",
   "version": "3.11.5"
  }
 },
 "nbformat": 4,
 "nbformat_minor": 5
}
